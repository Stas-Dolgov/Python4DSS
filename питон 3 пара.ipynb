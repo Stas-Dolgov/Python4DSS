{
 "cells": [
  {
   "cell_type": "code",
   "execution_count": null,
   "metadata": {},
   "outputs": [],
   "source": [
    "#Форматирование строк"
   ]
  },
  {
   "cell_type": "markdown",
   "metadata": {},
   "source": [
    "`Конкатенация строк`"
   ]
  },
  {
   "cell_type": "code",
   "execution_count": 1,
   "metadata": {},
   "outputs": [
    {
     "name": "stdout",
     "output_type": "stream",
     "text": [
      "Привет Маша 19\n"
     ]
    }
   ],
   "source": [
    "print(\"Привет \" + \"Маша \" + str(19))"
   ]
  },
  {
   "cell_type": "markdown",
   "metadata": {},
   "source": [
    "`Строкововый метод Format`"
   ]
  },
  {
   "cell_type": "code",
   "execution_count": 5,
   "metadata": {},
   "outputs": [
    {
     "name": "stdout",
     "output_type": "stream",
     "text": [
      "Привет, {}\n",
      "Привет, Катя\n",
      "Привет, Катя! Тебе уже 19 лет\n",
      "Привет, Катя! Катя, тебе уже 19 лет\n",
      "pi = 3.14\n"
     ]
    }
   ],
   "source": [
    "print(\"Привет, {}\")\n",
    "print(\"Привет, {}\".format(\"Катя\"))\n",
    "print(\"Привет, {}! Тебе уже {} лет\".format(\"Катя\", 19))\n",
    "print(\"Привет, {0}! {0}, тебе уже {1} лет\".format(\"Катя\", 19))\n",
    "print(\"{var} = {value}\".format(var = 'pi', value = 3.14))\n",
    "\n",
    "\n"
   ]
  },
  {
   "cell_type": "markdown",
   "metadata": {},
   "source": [
    "Форматирование"
   ]
  },
  {
   "cell_type": "code",
   "execution_count": 12,
   "metadata": {},
   "outputs": [
    {
     "name": "stdout",
     "output_type": "stream",
     "text": [
      "col_12345\n",
      "Автобус №35\n",
      "   25\n",
      "25   \n",
      "pi = 3.141592\n",
      "pi = 3.1416\n"
     ]
    }
   ],
   "source": [
    "print (\"col_%d\" %12345)\n",
    "print (\"%s №%d\" %(\"Автобус\", 35))\n",
    "print (\"%5d\" %25)\n",
    "print (\"%-5d\" %25)\n",
    "print (\"pi = %f\" %3.141592)\n",
    "print (\"pi = %.4f\" %3.141592)\n"
   ]
  },
  {
   "cell_type": "markdown",
   "metadata": {},
   "source": [
    "Template строки"
   ]
  },
  {
   "cell_type": "code",
   "execution_count": 14,
   "metadata": {},
   "outputs": [
    {
     "name": "stdout",
     "output_type": "stream",
     "text": [
      "Меня зовут Маша. Мне 19 лет.\n"
     ]
    }
   ],
   "source": [
    "from string import Template\n",
    "\n",
    "name = \"Маша\"\n",
    "age = 19\n",
    "v = Template(\"Меня зовут $name. Мне $age лет.\")\n",
    "print(v.substitute(name=name, age=age))"
   ]
  },
  {
   "cell_type": "markdown",
   "metadata": {},
   "source": [
    "f строки интерполированные строки"
   ]
  },
  {
   "cell_type": "code",
   "execution_count": 18,
   "metadata": {},
   "outputs": [
    {
     "name": "stdout",
     "output_type": "stream",
     "text": [
      "(name)\n",
      "a + b = 5\n",
      "3\n"
     ]
    }
   ],
   "source": [
    "name = \"Вася\"\n",
    "print(f\"(name)\")\n",
    "\n",
    "a = 2\n",
    "b = 3\n",
    "print(f\"a + b = {a + b}\")\n",
    "print(f\"{a if a > b else b}\")\n"
   ]
  },
  {
   "cell_type": "code",
   "execution_count": 20,
   "metadata": {},
   "outputs": [
    {
     "name": "stdout",
     "output_type": "stream",
     "text": [
      "       Привет       \n"
     ]
    }
   ],
   "source": [
    "#mini language\n",
    "print(f\"{'Привет':^20}\")\n",
    "print(f\"{'Привет':^20}\")"
   ]
  },
  {
   "cell_type": "code",
   "execution_count": 24,
   "metadata": {},
   "outputs": [
    {
     "name": "stdout",
     "output_type": "stream",
     "text": [
      "0.3333333333333333\n",
      "0.333333\n",
      " 0.33\n",
      "—\n",
      "ϧ\n"
     ]
    }
   ],
   "source": [
    "value = 1 / 3\n",
    "print(value)\n",
    "print(f\"{value:f}\")\n",
    "print(f\"{value: .2f}\")\n",
    "\n",
    "print(f\"{8212:c}\")\n",
    "print(f\"{999:c}\")"
   ]
  },
  {
   "cell_type": "code",
   "execution_count": 38,
   "metadata": {},
   "outputs": [
    {
     "name": "stdout",
     "output_type": "stream",
     "text": [
      "11111111\n"
     ]
    }
   ],
   "source": [
    "print(f\"{255:b}\")"
   ]
  },
  {
   "cell_type": "code",
   "execution_count": 36,
   "metadata": {},
   "outputs": [
    {
     "name": "stdout",
     "output_type": "stream",
     "text": [
      "   15\n",
      "00015\n",
      "--995\n",
      "1_234_567_890\n",
      "1---234---567---890\n"
     ]
    }
   ],
   "source": [
    "print(f\"{15:5}\")\n",
    "print(f\"{15:05}\")\n",
    "print(f\"{995:-=5}\")\n",
    "print(f\"{1234567890:_}\")\n",
    "print(f\"{1234567890:_}\".replace('_', '---'))"
   ]
  },
  {
   "cell_type": "markdown",
   "metadata": {},
   "source": [
    "`Cписок list`"
   ]
  },
  {
   "cell_type": "code",
   "execution_count": 37,
   "metadata": {},
   "outputs": [
    {
     "data": {
      "text/plain": [
       "[1, 2, 'Привет', 3.14]"
      ]
     },
     "execution_count": 37,
     "metadata": {},
     "output_type": "execute_result"
    }
   ],
   "source": [
    "[1, 2, \"Привет\", 3.14]"
   ]
  },
  {
   "cell_type": "code",
   "execution_count": 41,
   "metadata": {},
   "outputs": [
    {
     "data": {
      "text/plain": [
       "['q', 'w', 'e', 'r', 't', 'y']"
      ]
     },
     "execution_count": 41,
     "metadata": {},
     "output_type": "execute_result"
    }
   ],
   "source": [
    "list(\"qwerty\")\n",
    "\n"
   ]
  },
  {
   "cell_type": "code",
   "execution_count": 42,
   "metadata": {},
   "outputs": [
    {
     "data": {
      "text/plain": [
       "[0, 1, 2, 3, 4, 5, 6, 7, 8, 9]"
      ]
     },
     "execution_count": 42,
     "metadata": {},
     "output_type": "execute_result"
    }
   ],
   "source": [
    "list(range(10))"
   ]
  },
  {
   "cell_type": "code",
   "execution_count": 58,
   "metadata": {},
   "outputs": [
    {
     "name": "stdout",
     "output_type": "stream",
     "text": [
      "['Минск Брест Гомель']\n"
     ]
    }
   ],
   "source": [
    "cities = \"Минск Брест Гомель\".split(', ')\n",
    "print(cities)"
   ]
  },
  {
   "cell_type": "code",
   "execution_count": 59,
   "metadata": {},
   "outputs": [
    {
     "name": "stdout",
     "output_type": "stream",
     "text": [
      "[0, 1, 2, 3, 4]\n",
      "True\n",
      "False\n"
     ]
    }
   ],
   "source": [
    "numbers = list(range(5))\n",
    "print(numbers)\n",
    "print(4 in numbers)\n",
    "print(5 in numbers)\n"
   ]
  },
  {
   "cell_type": "code",
   "execution_count": 61,
   "metadata": {},
   "outputs": [
    {
     "name": "stdout",
     "output_type": "stream",
     "text": [
      "['Минск Брест Гомель']\n",
      "['Минск Брест Гомель', 'Севастополь', 'Москва']\n"
     ]
    }
   ],
   "source": [
    "cities = \"Минск Брест Гомель\".split(', ')\n",
    "print(cities)\n",
    "cities.append(\"Москва\")\n",
    "cities.insert(1, \"Севастополь\")\n",
    "print(cities)"
   ]
  },
  {
   "cell_type": "code",
   "execution_count": 60,
   "metadata": {},
   "outputs": [
    {
     "name": "stdout",
     "output_type": "stream",
     "text": [
      "['Минск Брест Гомель']\n"
     ]
    },
    {
     "ename": "IndexError",
     "evalue": "list index out of range",
     "output_type": "error",
     "traceback": [
      "\u001b[1;31m---------------------------------------------------------------------------\u001b[0m",
      "\u001b[1;31mIndexError\u001b[0m                                Traceback (most recent call last)",
      "Cell \u001b[1;32mIn[60], line 2\u001b[0m\n\u001b[0;32m      1\u001b[0m \u001b[38;5;28mprint\u001b[39m(cities)\n\u001b[1;32m----> 2\u001b[0m \u001b[38;5;28mprint\u001b[39m(\u001b[43mcities\u001b[49m\u001b[43m[\u001b[49m\u001b[38;5;241;43m1\u001b[39;49m\u001b[43m]\u001b[49m)\n\u001b[0;32m      3\u001b[0m \u001b[38;5;28mprint\u001b[39m(cities[\u001b[38;5;241m-\u001b[39m\u001b[38;5;241m1\u001b[39m])\n\u001b[0;32m      4\u001b[0m \u001b[38;5;28mprint\u001b[39m(cities[:\u001b[38;5;241m-\u001b[39m\u001b[38;5;241m1\u001b[39m])\n",
      "\u001b[1;31mIndexError\u001b[0m: list index out of range"
     ]
    }
   ],
   "source": [
    "print(cities)\n",
    "print(cities[1])\n",
    "print(cities[-1])\n",
    "print(cities[:-1])\n",
    "print(cities[::-1])\n"
   ]
  },
  {
   "cell_type": "code",
   "execution_count": 57,
   "metadata": {},
   "outputs": [
    {
     "name": "stdout",
     "output_type": "stream",
     "text": [
      "[10, 11, 12, 13, 14, 15, 16, 17, 18, 19]\n",
      "[-1, 11, 12, 13, 14, 15, 16, 17, 18, 19]\n",
      "[-1, 11, 12, 2, 777, -6, 16, 17, 18, 19]\n"
     ]
    }
   ],
   "source": [
    "numbers = list(range(10, 20))\n",
    "print(numbers)\n",
    "numbers[0] = -1\n",
    "print(numbers)\n",
    "numbers[3:6] = [2, 777, -6]\n",
    "print(numbers)"
   ]
  },
  {
   "cell_type": "markdown",
   "metadata": {},
   "source": [
    "`Кортеж неизменяемый список`"
   ]
  },
  {
   "cell_type": "code",
   "execution_count": 62,
   "metadata": {},
   "outputs": [
    {
     "data": {
      "text/plain": [
       "('q', 'w', 'e', 'r', 't', 'y')"
      ]
     },
     "execution_count": 62,
     "metadata": {},
     "output_type": "execute_result"
    }
   ],
   "source": [
    "tuple(\"qwerty\")"
   ]
  },
  {
   "cell_type": "code",
   "execution_count": 64,
   "metadata": {},
   "outputs": [
    {
     "data": {
      "text/plain": [
       "(1, 2, 3, 4)"
      ]
     },
     "execution_count": 64,
     "metadata": {},
     "output_type": "execute_result"
    }
   ],
   "source": [
    "v = (1, 2, 3, 4)\n",
    "v"
   ]
  },
  {
   "cell_type": "code",
   "execution_count": 65,
   "metadata": {},
   "outputs": [
    {
     "name": "stdout",
     "output_type": "stream",
     "text": [
      "(0, 1, 2, 3, 4)\n"
     ]
    }
   ],
   "source": [
    "params = tuple(range(5))\n",
    "print(params)"
   ]
  },
  {
   "cell_type": "code",
   "execution_count": 68,
   "metadata": {},
   "outputs": [
    {
     "name": "stdout",
     "output_type": "stream",
     "text": [
      "0 1 2 3 4\n",
      "0 1 [2, 3, 4]\n"
     ]
    }
   ],
   "source": [
    "a, b, c, d, e = params\n",
    "print(a, b, c, d, e)\n",
    "a, b, *rest = params\n",
    "print(a, b, rest)"
   ]
  },
  {
   "cell_type": "code",
   "execution_count": 69,
   "metadata": {},
   "outputs": [
    {
     "name": "stdout",
     "output_type": "stream",
     "text": [
      "[1, 2, 3]\n",
      "(1, 2, 3)\n",
      "[1, 2, 3]\n",
      "<class 'list'>\n",
      "<class 'tuple'>\n",
      "<class 'list'>\n"
     ]
    }
   ],
   "source": [
    "a = [1, 2, 3]\n",
    "b = tuple(a)\n",
    "c = list(b)\n",
    "print(a)\n",
    "print(b)\n",
    "print(c)\n",
    "print(type (a))\n",
    "print(type (b))\n",
    "print(type (c))"
   ]
  },
  {
   "cell_type": "code",
   "execution_count": 2,
   "metadata": {},
   "outputs": [
    {
     "name": "stdout",
     "output_type": "stream",
     "text": [
      "[(2, 3), (1, 4), (6, 5)]\n"
     ]
    }
   ],
   "source": [
    "points = [(2, 3), (1, 4), (6, 5)]\n",
    "print(points)"
   ]
  },
  {
   "cell_type": "code",
   "execution_count": 75,
   "metadata": {},
   "outputs": [
    {
     "name": "stdout",
     "output_type": "stream",
     "text": [
      "(2, 3) <class 'tuple'>\n",
      "(1, 4) <class 'tuple'>\n",
      "(6, 5) <class 'tuple'>\n"
     ]
    }
   ],
   "source": [
    "for point in points:\n",
    "    print(point, type(point))"
   ]
  },
  {
   "cell_type": "code",
   "execution_count": 77,
   "metadata": {},
   "outputs": [
    {
     "name": "stdout",
     "output_type": "stream",
     "text": [
      "x = 2, y = 3\n",
      "x = 1, y = 4\n",
      "x = 6, y = 5\n"
     ]
    }
   ],
   "source": [
    "for point in points:\n",
    "    x = point[0]\n",
    "    y = point[1]\n",
    "    print(f\"{x = }, {y = }\")\n",
    "   "
   ]
  },
  {
   "cell_type": "code",
   "execution_count": 78,
   "metadata": {},
   "outputs": [
    {
     "name": "stdout",
     "output_type": "stream",
     "text": [
      "x = 2, y = 3\n",
      "x = 1, y = 4\n",
      "x = 6, y = 5\n"
     ]
    }
   ],
   "source": [
    "for point in points:\n",
    "    x, y = point\n",
    "    print(f\"{x = }, {y = }\")\n",
    "   "
   ]
  },
  {
   "cell_type": "code",
   "execution_count": 79,
   "metadata": {},
   "outputs": [
    {
     "name": "stdout",
     "output_type": "stream",
     "text": [
      "x = 2, y = 3\n",
      "x = 1, y = 4\n",
      "x = 6, y = 5\n"
     ]
    }
   ],
   "source": [
    "for x, y in points:\n",
    "    print(f\"{x = }, {y = }\")\n",
    "   "
   ]
  },
  {
   "cell_type": "code",
   "execution_count": 8,
   "metadata": {},
   "outputs": [
    {
     "name": "stdout",
     "output_type": "stream",
     "text": [
      "1) x = 2, y = 3\n",
      "2) x = 1, y = 4\n",
      "3) x = 6, y = 5\n"
     ]
    }
   ],
   "source": [
    "for n, (x, y) in enumerate(points):\n",
    "    print(f\"{n+1}) {x = }, {y = }\")"
   ]
  },
  {
   "cell_type": "code",
   "execution_count": 9,
   "metadata": {},
   "outputs": [
    {
     "name": "stdout",
     "output_type": "stream",
     "text": [
      "1) x = 2, y = 3\n",
      "2) x = 1, y = 4\n",
      "3) x = 6, y = 5\n"
     ]
    }
   ],
   "source": [
    "for n, (x, y) in enumerate(points, start = 1):#так лучше\n",
    "    print(f\"{n}) {x = }, {y = }\")"
   ]
  },
  {
   "cell_type": "code",
   "execution_count": 11,
   "metadata": {},
   "outputs": [
    {
     "name": "stdout",
     "output_type": "stream",
     "text": [
      "(2, 3)\n",
      "x = 2, y = 3\n"
     ]
    }
   ],
   "source": [
    "def fun(x, y):\n",
    "    print(f\"{x = }, {y = }\")\n",
    "point = points[0]\n",
    "print(point)\n",
    "\n",
    "fun(*point)"
   ]
  },
  {
   "cell_type": "code",
   "execution_count": 1,
   "metadata": {},
   "outputs": [
    {
     "name": "stdout",
     "output_type": "stream",
     "text": [
      "a = 3, b = 1, c = 2\n"
     ]
    }
   ],
   "source": [
    "a, b, c = (1, 2, 3)\n",
    "#a, b, c = 1, 2, 3\n",
    "a, b, c = c, a, b\n",
    "print(f\"{a = }, {b = }, {c = }\")"
   ]
  }
 ],
 "metadata": {
  "kernelspec": {
   "display_name": "Python 3",
   "language": "python",
   "name": "python3"
  },
  "language_info": {
   "codemirror_mode": {
    "name": "ipython",
    "version": 3
   },
   "file_extension": ".py",
   "mimetype": "text/x-python",
   "name": "python",
   "nbconvert_exporter": "python",
   "pygments_lexer": "ipython3",
   "version": "3.12.2"
  }
 },
 "nbformat": 4,
 "nbformat_minor": 2
}
