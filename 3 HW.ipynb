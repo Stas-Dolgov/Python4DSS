{
 "cells": [
  {
   "cell_type": "code",
   "execution_count": 12,
   "metadata": {},
   "outputs": [
    {
     "name": "stdout",
     "output_type": "stream",
     "text": [
      "True\n"
     ]
    },
    {
     "data": {
      "text/plain": [
       "'Проверка является ли колода реальной'"
      ]
     },
     "execution_count": 12,
     "metadata": {},
     "output_type": "execute_result"
    }
   ],
   "source": [
    "def is_real_deck(num_of_cards: int, num_of_suits: int):\n",
    "    if num_of_cards == 36:\n",
    "        return num_of_suits >= 4\n",
    "    if num_of_cards > 36:\n",
    "        return num_of_suits > 4\n",
    "    if num_of_cards < 36:\n",
    "        return num_of_suits < 4\n",
    "print(is_real_deck(num_of_cards = 26, num_of_suits = 2))\n",
    "\n",
    "\"\"\"Проверка является ли колода реальной\"\"\"\n"
   ]
  },
  {
   "cell_type": "code",
   "execution_count": 31,
   "metadata": {},
   "outputs": [
    {
     "name": "stdout",
     "output_type": "stream",
     "text": [
      "/ / / / / / / / / /\n",
      "/                 /\n",
      "/ ~               /\n",
      "/               $ /\n",
      "/                 /\n",
      "/ / / / / / / / / /\n"
     ]
    }
   ],
   "source": [
    "from typing import List, Tuple\n",
    "import random\n",
    "\n",
    "def generate_maze(height: int, width: int, start: Tuple[int, int] = None, end: Tuple[int, int] = None) -> List[List[str]]:\n",
    "    if start is None:\n",
    "        start = (random.randint(1, height-2), 0)\n",
    "    if end is None:\n",
    "        end = (random.randint(1, height-2), width-1)\n",
    "\n",
    "    maze = [[' ' for _ in range(width)] for _ in range(height)]\n",
    "\n",
    "    for i in range(height):\n",
    "        maze[i][0] = '/'\n",
    "        maze[i][width-1] = '/'\n",
    "    for j in range(width):\n",
    "        maze[0][j] = '/'\n",
    "        maze[height-1][j] = '/'\n",
    "\n",
    "    start_row, start_col = start\n",
    "    end_row, end_col = end\n",
    "    maze[start_row][start_col] = '~'\n",
    "    maze[end_row][end_col] = '$'\n",
    "\n",
    "    return maze\n",
    "\n",
    "# Testing the function\n",
    "maze1 = generate_maze(6, 10, (2, 1), (3, 8))\n",
    "for row in maze1:\n",
    "    print(' '.join(row))\n",
    "\n"
   ]
  }
 ],
 "metadata": {
  "kernelspec": {
   "display_name": "Python 3",
   "language": "python",
   "name": "python3"
  },
  "language_info": {
   "codemirror_mode": {
    "name": "ipython",
    "version": 3
   },
   "file_extension": ".py",
   "mimetype": "text/x-python",
   "name": "python",
   "nbconvert_exporter": "python",
   "pygments_lexer": "ipython3",
   "version": "3.12.2"
  }
 },
 "nbformat": 4,
 "nbformat_minor": 2
}
