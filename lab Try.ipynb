{
 "cells": [
  {
   "cell_type": "markdown",
   "metadata": {},
   "source": [
    "Обработка исключений \n",
    "* синтаксиса\n",
    "* ошибки выполнения"
   ]
  },
  {
   "cell_type": "code",
   "execution_count": 10,
   "metadata": {},
   "outputs": [
    {
     "name": "stdout",
     "output_type": "stream",
     "text": [
      "<class 'str'>\n",
      "Что-то пошло не так\n",
      "<class 'int'>\n"
     ]
    }
   ],
   "source": [
    "x = \"123u\"\n",
    "print(type(x))\n",
    "try:\n",
    "    x = int(x)\n",
    "except:\n",
    "    print('Что-то пошло не так')\n",
    "    x = 0\n",
    "print(type(x))"
   ]
  },
  {
   "cell_type": "code",
   "execution_count": 16,
   "metadata": {},
   "outputs": [
    {
     "name": "stdout",
     "output_type": "stream",
     "text": [
      "log: a = 10, b = 3\n",
      "Ошибка деления на 0\n",
      "log: a = 10, b = 0\n",
      "Ошибка типа аргумента\n",
      "log: a = 10, b = '0'\n"
     ]
    }
   ],
   "source": [
    "def div_numbers(a, b):\n",
    "    try:\n",
    "        return a/b\n",
    "    except ZeroDivisionError:\n",
    "        print('Ошибка деления на 0')\n",
    "    except TypeError:\n",
    "        print('Ошибка типа аргумента')\n",
    "    finally:\n",
    "        print(f'log: {a = }, {b = }')\n",
    "div_numbers(10, 3)\n",
    "div_numbers(10, 0)\n",
    "div_numbers(10, \"0\")"
   ]
  },
  {
   "cell_type": "code",
   "execution_count": 17,
   "metadata": {},
   "outputs": [
    {
     "ename": "MyError",
     "evalue": "Ошибка!!!",
     "output_type": "error",
     "traceback": [
      "\u001b[1;31m---------------------------------------------------------------------------\u001b[0m",
      "\u001b[1;31mMyError\u001b[0m                                   Traceback (most recent call last)",
      "Cell \u001b[1;32mIn[17], line 4\u001b[0m\n\u001b[0;32m      1\u001b[0m \u001b[38;5;28;01mclass\u001b[39;00m \u001b[38;5;21;01mMyError\u001b[39;00m(\u001b[38;5;167;01mException\u001b[39;00m):\n\u001b[0;32m      2\u001b[0m     \u001b[38;5;28;01mpass\u001b[39;00m\n\u001b[1;32m----> 4\u001b[0m \u001b[38;5;28;01mraise\u001b[39;00m MyError(\u001b[38;5;124m'\u001b[39m\u001b[38;5;124mОшибка!!!\u001b[39m\u001b[38;5;124m'\u001b[39m)\n",
      "\u001b[1;31mMyError\u001b[0m: Ошибка!!!"
     ]
    }
   ],
   "source": [
    "class MyError(Exception):\n",
    "    pass\n",
    "\n",
    "raise MyError('Ошибка!!!')"
   ]
  }
 ],
 "metadata": {
  "kernelspec": {
   "display_name": "Python 3",
   "language": "python",
   "name": "python3"
  },
  "language_info": {
   "codemirror_mode": {
    "name": "ipython",
    "version": 3
   },
   "file_extension": ".py",
   "mimetype": "text/x-python",
   "name": "python",
   "nbconvert_exporter": "python",
   "pygments_lexer": "ipython3",
   "version": "3.12.2"
  }
 },
 "nbformat": 4,
 "nbformat_minor": 2
}
