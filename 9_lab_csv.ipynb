{
 "cells": [
  {
   "cell_type": "markdown",
   "metadata": {},
   "source": [
    "Работа с CSV файлами"
   ]
  },
  {
   "cell_type": "markdown",
   "metadata": {},
   "source": [
    "типы текстовых форматов csv файла:\n",
    "* csv (разделитель запятая)\n",
    "* tsv (разделитель таб)\n",
    "* scsv (разделитель точка с запятой)\n",
    "* любой разделитель"
   ]
  },
  {
   "cell_type": "code",
   "execution_count": 5,
   "metadata": {},
   "outputs": [],
   "source": [
    "import csv"
   ]
  },
  {
   "cell_type": "code",
   "execution_count": 6,
   "metadata": {},
   "outputs": [],
   "source": [
    "import os\n",
    "TEMP_DIR ='temp'\n",
    "if not os.path.exists(TEMP_DIR):\n",
    "    os.mkdir(TEMP_DIR)"
   ]
  },
  {
   "cell_type": "code",
   "execution_count": 7,
   "metadata": {},
   "outputs": [],
   "source": [
    "my_data = [\n",
    "    ['fam', 'name', 'age'],\n",
    "    ['petrov', 'peter', 22],\n",
    "    ['ssd', 'qwer', 34]\n",
    "]"
   ]
  },
  {
   "cell_type": "code",
   "execution_count": 8,
   "metadata": {},
   "outputs": [],
   "source": [
    "with open(os.path.join(TEMP_DIR, 'csv_test.csv'), mode = 'w', encoding = 'utf-8') as f:\n",
    "    writer = csv.writer(f, lineterminator = '\\n', delimiter=';')\n",
    "    writer.writerows(my_data)\n"
   ]
  },
  {
   "cell_type": "code",
   "execution_count": 12,
   "metadata": {},
   "outputs": [
    {
     "name": "stdout",
     "output_type": "stream",
     "text": [
      "{'fam': 'petrov', 'name': 'peter', 'age': '22'}\n",
      "{'fam': 'ssd', 'name': 'qwer', 'age': '34'}\n"
     ]
    }
   ],
   "source": [
    "with open(os.path.join(TEMP_DIR, 'csv_test.csv')) as f:\n",
    "    reader = csv.DictReader(f, delimiter = ';')\n",
    "    for line in reader:\n",
    "        print(line)"
   ]
  }
 ],
 "metadata": {
  "kernelspec": {
   "display_name": "Python 3",
   "language": "python",
   "name": "python3"
  },
  "language_info": {
   "codemirror_mode": {
    "name": "ipython",
    "version": 3
   },
   "file_extension": ".py",
   "mimetype": "text/x-python",
   "name": "python",
   "nbconvert_exporter": "python",
   "pygments_lexer": "ipython3",
   "version": "3.12.2"
  }
 },
 "nbformat": 4,
 "nbformat_minor": 2
}
