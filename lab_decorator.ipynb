{
 "cells": [
  {
   "cell_type": "markdown",
   "metadata": {},
   "source": [
    "Декоратор"
   ]
  },
  {
   "cell_type": "code",
   "execution_count": 2,
   "metadata": {},
   "outputs": [
    {
     "name": "stdout",
     "output_type": "stream",
     "text": [
      "ПРИВЕТ!\n",
      "ПРИВЕТ!\n"
     ]
    }
   ],
   "source": [
    "def hello():\n",
    "    print('ПРИВЕТ!')\n",
    "\n",
    "x = 123\n",
    "hello()\n",
    "\n",
    "x = hello\n",
    "x()\n"
   ]
  },
  {
   "cell_type": "code",
   "execution_count": 3,
   "metadata": {},
   "outputs": [
    {
     "data": {
      "text/plain": [
       "50"
      ]
     },
     "execution_count": 3,
     "metadata": {},
     "output_type": "execute_result"
    }
   ],
   "source": [
    "x = lambda i: i * 10\n",
    "x(5)"
   ]
  },
  {
   "cell_type": "code",
   "execution_count": 5,
   "metadata": {},
   "outputs": [
    {
     "name": "stdout",
     "output_type": "stream",
     "text": [
      "**********\n",
      "ПРИВЕТ!\n",
      "**********\n"
     ]
    }
   ],
   "source": [
    "#Стандартный декоратор\n",
    "\n",
    "def star(func):\n",
    "    def wrapper():\n",
    "        print('*' * 10)\n",
    "        func()\n",
    "        print('*' * 10)\n",
    "    return wrapper\n",
    "\n",
    "def hello():\n",
    "    print('ПРИВЕТ!')\n",
    "\n",
    "hello = star(hello)\n",
    "hello()\n",
    "# *********\n",
    "# hi\n",
    "# *********"
   ]
  },
  {
   "cell_type": "code",
   "execution_count": 6,
   "metadata": {},
   "outputs": [
    {
     "name": "stdout",
     "output_type": "stream",
     "text": [
      "**********\n",
      "пока\n",
      "**********\n"
     ]
    }
   ],
   "source": [
    "@star\n",
    "def bye():\n",
    "    print('пока')\n",
    "\n",
    "bye()"
   ]
  },
  {
   "cell_type": "code",
   "execution_count": 7,
   "metadata": {},
   "outputs": [
    {
     "name": "stdout",
     "output_type": "stream",
     "text": [
      "**********\n",
      "имя = KERT\n",
      "**********\n"
     ]
    }
   ],
   "source": [
    "#стандартный декоратор, но функция с аргументами\n",
    "def star(func):\n",
    "    def wrapper(*args, **kwards):\n",
    "        print('*' * 10)\n",
    "        func(*args, **kwards)\n",
    "        print('*' * 10)\n",
    "    return wrapper\n",
    "\n",
    "@star\n",
    "def print_person(name):\n",
    "    print(f\"имя = {name}\")\n",
    "\n",
    "print_person('KERT')"
   ]
  },
  {
   "cell_type": "code",
   "execution_count": 13,
   "metadata": {},
   "outputs": [
    {
     "name": "stdout",
     "output_type": "stream",
     "text": [
      "%%%%%%%%%%%%%%%\n",
      "***************\n",
      "---------------\n",
      "ДОБРОЕ УТРО!!!\n",
      "---------------\n",
      "***************\n",
      "%%%%%%%%%%%%%%%\n"
     ]
    }
   ],
   "source": [
    "#декоратор с параметрами\n",
    "def my_select(char: str):\n",
    "    def my_select(func):\n",
    "        def wrapper(*args, **kwards):\n",
    "            print(char * 15)\n",
    "            func(*args, **kwards)\n",
    "            print(char * 15)\n",
    "        return wrapper\n",
    "    return my_select\n",
    "\n",
    "\n",
    "@my_select('%')\n",
    "@my_select('*')\n",
    "@my_select('-')\n",
    "def good_morning():\n",
    "    print(\"ДОБРОЕ УТРО!!!\")\n",
    "\n",
    "good_morning()"
   ]
  }
 ],
 "metadata": {
  "kernelspec": {
   "display_name": "Python 3",
   "language": "python",
   "name": "python3"
  },
  "language_info": {
   "codemirror_mode": {
    "name": "ipython",
    "version": 3
   },
   "file_extension": ".py",
   "mimetype": "text/x-python",
   "name": "python",
   "nbconvert_exporter": "python",
   "pygments_lexer": "ipython3",
   "version": "3.12.2"
  }
 },
 "nbformat": 4,
 "nbformat_minor": 2
}
