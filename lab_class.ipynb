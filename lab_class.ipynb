{
 "cells": [
  {
   "cell_type": "code",
   "execution_count": 4,
   "metadata": {},
   "outputs": [],
   "source": [
    "#классы и объекты в python"
   ]
  },
  {
   "cell_type": "code",
   "execution_count": 5,
   "metadata": {},
   "outputs": [
    {
     "data": {
      "text/plain": [
       "['__class__',\n",
       " '__delattr__',\n",
       " '__dict__',\n",
       " '__dir__',\n",
       " '__doc__',\n",
       " '__eq__',\n",
       " '__format__',\n",
       " '__ge__',\n",
       " '__getattribute__',\n",
       " '__getstate__',\n",
       " '__gt__',\n",
       " '__hash__',\n",
       " '__init__',\n",
       " '__init_subclass__',\n",
       " '__le__',\n",
       " '__lt__',\n",
       " '__module__',\n",
       " '__ne__',\n",
       " '__new__',\n",
       " '__reduce__',\n",
       " '__reduce_ex__',\n",
       " '__repr__',\n",
       " '__setattr__',\n",
       " '__sizeof__',\n",
       " '__str__',\n",
       " '__subclasshook__',\n",
       " '__weakref__',\n",
       " 'color',\n",
       " 'run']"
      ]
     },
     "execution_count": 5,
     "metadata": {},
     "output_type": "execute_result"
    }
   ],
   "source": [
    "class Car: #объект класса\n",
    "    color = 'red'\n",
    "\n",
    "    def run(self):\n",
    "        pass\n",
    "\n",
    "car = Car() #экземпляр класса\n",
    "\n",
    "dir(Car)"
   ]
  },
  {
   "cell_type": "markdown",
   "metadata": {},
   "source": [
    "## Атрибуты класса\n",
    "\n",
    "`Атрибуты класса` - это `поля` и `методы`.\n",
    "\n",
    "Виды атрибутов класса:\n",
    "* встроенные служебные \n",
    "* пользовательские"
   ]
  },
  {
   "cell_type": "markdown",
   "metadata": {},
   "source": [
    "## Поля класса\n",
    "\n",
    "Поля класса - это переменные, которые объявлены внутри класса\n",
    "\n",
    "Виды полей класса:\n",
    "- статические (принадлежат классу)\n",
    "- динамические (принадлежат каждому экземпляру класса)"
   ]
  },
  {
   "cell_type": "code",
   "execution_count": 6,
   "metadata": {},
   "outputs": [
    {
     "name": "stdout",
     "output_type": "stream",
     "text": [
      "red\n",
      "white\n"
     ]
    }
   ],
   "source": [
    "# статические поля\n",
    "class Car:\n",
    "    default_color = 'red'\n",
    "\n",
    "print(Car.default_color)\n",
    "Car.default_color = 'white'\n",
    "print(Car.default_color)\n"
   ]
  },
  {
   "cell_type": "code",
   "execution_count": 7,
   "metadata": {},
   "outputs": [
    {
     "name": "stdout",
     "output_type": "stream",
     "text": [
      "red\n",
      "black\n",
      "red\n"
     ]
    }
   ],
   "source": [
    "# динамические поля\n",
    "\n",
    "class Car:\n",
    "    default_color = 'red'\n",
    "\n",
    "car = Car()\n",
    "print(car.default_color)\n",
    "car.default_color = 'black'\n",
    "print(car.default_color)\n",
    "\n",
    "\n",
    "print(Car.default_color)\n"
   ]
  },
  {
   "cell_type": "code",
   "execution_count": 8,
   "metadata": {},
   "outputs": [
    {
     "name": "stdout",
     "output_type": "stream",
     "text": [
      "yellow\n"
     ]
    }
   ],
   "source": [
    "class Car:\n",
    "    def __init__(self, color) -> None:\n",
    "        self.color = color\n",
    "\n",
    "car = Car('yellow')\n",
    "print(car.color)"
   ]
  },
  {
   "cell_type": "markdown",
   "metadata": {},
   "source": [
    "## Методы класса\n",
    "\n",
    "Методы класса - это функции, которые объявляются внутри класса\n",
    "\n",
    "виды методов класса:\n",
    "* методы экземпляра класса (обычные)\n",
    "* статичесике методы\n",
    "* методы класса"
   ]
  },
  {
   "cell_type": "code",
   "execution_count": 9,
   "metadata": {},
   "outputs": [
    {
     "name": "stdout",
     "output_type": "stream",
     "text": [
      "класс\n",
      "статический\n",
      "обычно\n"
     ]
    }
   ],
   "source": [
    "class Car:\n",
    "    #обычный метод\n",
    "    def run(self, value):\n",
    "        print('обычно')\n",
    "    \n",
    "    #статический\n",
    "    @staticmethod\n",
    "    def convert(value):\n",
    "        print('статический')\n",
    "        \n",
    "    #метод класса\n",
    "    @classmethod\n",
    "    def set_default_color(cls, value):\n",
    "        print('класс')\n",
    "\n",
    "\n",
    "Car.set_default_color('red')\n",
    "Car.convert(123)\n",
    "Car().run(5)"
   ]
  },
  {
   "cell_type": "markdown",
   "metadata": {},
   "source": [
    "## Уровни доступа атрибутов\n",
    "\n",
    "Модификаторы доступа:\n",
    "- private (\"__priv\")\n",
    "- protected (\"_prot\")\n",
    "- public (pub)\n"
   ]
  },
  {
   "cell_type": "code",
   "execution_count": 10,
   "metadata": {},
   "outputs": [
    {
     "name": "stdout",
     "output_type": "stream",
     "text": [
      "Сбер\n",
      "1111 2222 3333 4444\n"
     ]
    }
   ],
   "source": [
    "class Card:\n",
    "    def __init__(self, name, number, pin) -> None:\n",
    "        #public\n",
    "        self.name = name\n",
    "        #protected\n",
    "        self._number = number\n",
    "        #private\n",
    "        self.__pin = pin\n",
    "\n",
    "    #protected\n",
    "    def _set_number(self, number):\n",
    "        self._number = number\n",
    "\n",
    "    #private\n",
    "    def __set_pin(self, pin):\n",
    "        self.__pin = pin\n",
    "\n",
    "        \n",
    "card = Card('Сбер', '1111 2222 3333 4444', '1234')\n",
    "print(card.name)\n",
    "print(card._number)\n",
    "#print(card.__pin)\n",
    "card._set_number('000')\n",
    "\n"
   ]
  },
  {
   "cell_type": "markdown",
   "metadata": {},
   "source": [
    "## Свойства"
   ]
  },
  {
   "cell_type": "code",
   "execution_count": 11,
   "metadata": {},
   "outputs": [
    {
     "name": "stdout",
     "output_type": "stream",
     "text": [
      "20\n",
      "17\n"
     ]
    }
   ],
   "source": [
    "class Person:\n",
    "    def __init__(self, age) -> None:\n",
    "        self.__age = age\n",
    "    \n",
    "    def get_age(self):\n",
    "        return self.__age\n",
    "    \n",
    "    def set_age(self, age):\n",
    "        self.__age = age\n",
    "\n",
    "person = Person(age = 20)\n",
    "print(person.get_age())\n",
    "person.set_age(17)\n",
    "print(person.get_age())\n"
   ]
  },
  {
   "cell_type": "code",
   "execution_count": 12,
   "metadata": {},
   "outputs": [
    {
     "name": "stdout",
     "output_type": "stream",
     "text": [
      "25\n",
      "18\n"
     ]
    }
   ],
   "source": [
    "class Person:\n",
    "    def __init__(self, age) -> None:\n",
    "        self.__age = age\n",
    "    \n",
    "    def _get_age(self):\n",
    "        return self.__age\n",
    "    \n",
    "    def _set_age(self, age):\n",
    "        self.__age = age\n",
    "\n",
    "    age = property(\n",
    "         fset = _set_age,\n",
    "         fget = _get_age,\n",
    "         doc = \"Возраст\"\n",
    "     )   \n",
    "\n",
    "person = Person(age = 25)\n",
    "print(person.age)\n",
    "person.age = 18\n",
    "print(person.age)\n"
   ]
  },
  {
   "cell_type": "code",
   "execution_count": 15,
   "metadata": {},
   "outputs": [
    {
     "name": "stdout",
     "output_type": "stream",
     "text": [
      "25\n",
      "18\n"
     ]
    }
   ],
   "source": [
    "#Использование декораторов для объявлениия свойств\n",
    "\n",
    "class Person:\n",
    "    def __init__(self, age) -> None:\n",
    "        # self.__age = age плохо\n",
    "        self.age = age # хорошо\n",
    "\n",
    "\n",
    "    @property\n",
    "    def age(self):\n",
    "        return self.__age\n",
    "\n",
    "    @age.setter \n",
    "    def age(self, value):\n",
    "        self.__age = value\n",
    "  \n",
    "\n",
    "person = Person(age = 25)\n",
    "print(person.age)\n",
    "person.age = 18\n",
    "print(person.age)"
   ]
  }
 ],
 "metadata": {
  "kernelspec": {
   "display_name": "Python 3",
   "language": "python",
   "name": "python3"
  },
  "language_info": {
   "codemirror_mode": {
    "name": "ipython",
    "version": 3
   },
   "file_extension": ".py",
   "mimetype": "text/x-python",
   "name": "python",
   "nbconvert_exporter": "python",
   "pygments_lexer": "ipython3",
   "version": "3.12.2"
  }
 },
 "nbformat": 4,
 "nbformat_minor": 2
}
