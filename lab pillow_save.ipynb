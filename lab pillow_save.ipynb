{
 "cells": [
  {
   "cell_type": "markdown",
   "metadata": {},
   "source": [
    "save image"
   ]
  },
  {
   "cell_type": "code",
   "execution_count": 1,
   "metadata": {},
   "outputs": [],
   "source": [
    "from PIL import Image"
   ]
  },
  {
   "cell_type": "code",
   "execution_count": 2,
   "metadata": {},
   "outputs": [],
   "source": [
    "im = Image.open('image.png')"
   ]
  },
  {
   "cell_type": "code",
   "execution_count": 3,
   "metadata": {},
   "outputs": [],
   "source": [
    "im.save('temp/image_png.png')\n",
    "im.save('temp/image_webp.webp', format = 'webp')"
   ]
  },
  {
   "cell_type": "code",
   "execution_count": 4,
   "metadata": {},
   "outputs": [],
   "source": [
    "from io import BytesIO"
   ]
  },
  {
   "cell_type": "code",
   "execution_count": 5,
   "metadata": {},
   "outputs": [
    {
     "name": "stdout",
     "output_type": "stream",
     "text": [
      "размер BMP = 370710 bytes\n",
      "размер PNG = 84237 bytes\n",
      "размер JPEG = 15604 bytes\n",
      "размер WEBP = 12016 bytes\n"
     ]
    }
   ],
   "source": [
    "f_bmp = BytesIO()\n",
    "f_png = BytesIO()\n",
    "f_jpeg = BytesIO()\n",
    "f_webp = BytesIO()\n",
    "\n",
    "im.save(f_bmp, format='bmp')\n",
    "im.save(f_png, format='png')\n",
    "im.save(f_jpeg, format='jpeg')\n",
    "im.save(f_webp, format='webp')\n",
    "\n",
    "print(f'размер BMP = {f_bmp.tell()} bytes')\n",
    "print(f'размер PNG = {f_png.tell()} bytes')\n",
    "print(f'размер JPEG = {f_jpeg.tell()} bytes')\n",
    "print(f'размер WEBP = {f_webp.tell()} bytes')"
   ]
  },
  {
   "cell_type": "code",
   "execution_count": 6,
   "metadata": {},
   "outputs": [],
   "source": [
    "def get_image_filesize(im: Image, format):\n",
    "    f = BytesIO()\n",
    "    im.save(f, format = format)\n",
    "    return f.tell()"
   ]
  },
  {
   "cell_type": "code",
   "execution_count": 7,
   "metadata": {},
   "outputs": [],
   "source": [
    "def get_image_filesize(im: Image, format, quality):\n",
    "    f = BytesIO()\n",
    "    im.save(f, format = format, quality= quality)\n",
    "    return f.tell()"
   ]
  },
  {
   "cell_type": "code",
   "execution_count": 8,
   "metadata": {},
   "outputs": [
    {
     "name": "stdout",
     "output_type": "stream",
     "text": [
      "Размер JPEG   0 % - 3700 bytes\n",
      "Размер JPEG   5 % - 4306 bytes\n",
      "Размер JPEG  10 % - 5409 bytes\n",
      "Размер JPEG  15 % - 6395 bytes\n",
      "Размер JPEG  20 % - 7284 bytes\n",
      "Размер JPEG  25 % - 8174 bytes\n",
      "Размер JPEG  30 % - 8924 bytes\n",
      "Размер JPEG  35 % - 9631 bytes\n",
      "Размер JPEG  40 % - 10104 bytes\n",
      "Размер JPEG  45 % - 10695 bytes\n",
      "Размер JPEG  50 % - 11484 bytes\n",
      "Размер JPEG  55 % - 12134 bytes\n",
      "Размер JPEG  60 % - 12923 bytes\n",
      "Размер JPEG  65 % - 13786 bytes\n",
      "Размер JPEG  70 % - 14612 bytes\n",
      "Размер JPEG  75 % - 15604 bytes\n",
      "Размер JPEG  80 % - 16931 bytes\n",
      "Размер JPEG  85 % - 18795 bytes\n",
      "Размер JPEG  90 % - 21879 bytes\n",
      "Размер JPEG  95 % - 28275 bytes\n",
      "Размер JPEG 100 % - 45129 bytes\n"
     ]
    }
   ],
   "source": [
    "for i in range(0, 101, 5):\n",
    "    print(f'Размер JPEG {i:>3} % - {get_image_filesize(im, 'jpeg', i):>3} bytes')"
   ]
  },
  {
   "cell_type": "code",
   "execution_count": 9,
   "metadata": {},
   "outputs": [
    {
     "ename": "ModuleNotFoundError",
     "evalue": "No module named 'tabulate'",
     "output_type": "error",
     "traceback": [
      "\u001b[1;31m---------------------------------------------------------------------------\u001b[0m",
      "\u001b[1;31mModuleNotFoundError\u001b[0m                       Traceback (most recent call last)",
      "Cell \u001b[1;32mIn[9], line 1\u001b[0m\n\u001b[1;32m----> 1\u001b[0m \u001b[38;5;28;01mfrom\u001b[39;00m \u001b[38;5;21;01mtabulate\u001b[39;00m \u001b[38;5;28;01mimport\u001b[39;00m tabulate\n\u001b[0;32m      3\u001b[0m ta_headers \u001b[38;5;241m=\u001b[39m [\u001b[38;5;124m'\u001b[39m\u001b[38;5;124mСтепень сжатия\u001b[39m\u001b[38;5;124m'\u001b[39m, \u001b[38;5;124m'\u001b[39m\u001b[38;5;124mJPEG\u001b[39m\u001b[38;5;124m'\u001b[39m, \u001b[38;5;124m'\u001b[39m\u001b[38;5;124mWebp\u001b[39m\u001b[38;5;124m'\u001b[39m]\n\u001b[0;32m      4\u001b[0m ta_data \u001b[38;5;241m=\u001b[39m []\n",
      "\u001b[1;31mModuleNotFoundError\u001b[0m: No module named 'tabulate'"
     ]
    }
   ],
   "source": [
    "from tabulate import tabulate\n",
    "\n",
    "ta_headers = ['Степень сжатия', 'JPEG', 'Webp']\n",
    "ta_data = []\n",
    "\n",
    "for i in range(0, 101, 5):\n",
    "    ta_data.append((\n",
    "        f'{i} %', \n",
    "        get_image_filesize(im, 'jpeg', i),\n",
    "        get_image_filesize(im, 'webp', i)\n",
    "    ))\n",
    "\n",
    "ta = tabulate(ta_data, headers=ta_headers)\n",
    "print(ta)"
   ]
  }
 ],
 "metadata": {
  "kernelspec": {
   "display_name": "Python 3",
   "language": "python",
   "name": "python3"
  },
  "language_info": {
   "codemirror_mode": {
    "name": "ipython",
    "version": 3
   },
   "file_extension": ".py",
   "mimetype": "text/x-python",
   "name": "python",
   "nbconvert_exporter": "python",
   "pygments_lexer": "ipython3",
   "version": "3.12.2"
  }
 },
 "nbformat": 4,
 "nbformat_minor": 2
}
