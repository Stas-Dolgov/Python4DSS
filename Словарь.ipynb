{
 "cells": [
  {
   "cell_type": "markdown",
   "metadata": {},
   "source": [
    "Словарь (dict)"
   ]
  },
  {
   "cell_type": "markdown",
   "metadata": {},
   "source": [
    "Словарь это упорядоченная структура данных, которая позволяет хранить пары \"ключ - значение\" с доступом по уникальному ключу"
   ]
  },
  {
   "cell_type": "code",
   "execution_count": 1,
   "metadata": {},
   "outputs": [
    {
     "data": {
      "text/plain": [
       "{'имя': 'викинг',\n",
       " 'жизнь': '250',\n",
       " 'невидим': True,\n",
       " 'Инвентарь': ['лопата', 'ведро']}"
      ]
     },
     "execution_count": 1,
     "metadata": {},
     "output_type": "execute_result"
    }
   ],
   "source": [
    "{'имя':'викинг','жизнь':'250','невидим':True, 'Инвентарь':['лопата', 'ведро']}"
   ]
  },
  {
   "cell_type": "code",
   "execution_count": 3,
   "metadata": {},
   "outputs": [
    {
     "name": "stdout",
     "output_type": "stream",
     "text": [
      "<class 'dict'>\n"
     ]
    }
   ],
   "source": [
    "v = {}\n",
    "print(type(v))\n",
    "empty_set = set()\n",
    "empty_dict = dict()\n"
   ]
  },
  {
   "cell_type": "code",
   "execution_count": 10,
   "metadata": {},
   "outputs": [
    {
     "name": "stdout",
     "output_type": "stream",
     "text": [
      "Хорошо\n"
     ]
    }
   ],
   "source": [
    "v = {5:'Отлично',4:'Хорошо',3:'Удовлетворительно',2:'неудовлетворительно'}\n",
    "print(v[4])"
   ]
  },
  {
   "cell_type": "code",
   "execution_count": 11,
   "metadata": {},
   "outputs": [
    {
     "data": {
      "text/plain": [
       "{'key1': 'value1', 'key2': 'value2', 'key3': 'value3'}"
      ]
     },
     "execution_count": 11,
     "metadata": {},
     "output_type": "execute_result"
    }
   ],
   "source": [
    "dict(key1='value1', key2='value2', key3 ='value3')"
   ]
  },
  {
   "cell_type": "code",
   "execution_count": 15,
   "metadata": {},
   "outputs": [
    {
     "data": {
      "text/plain": [
       "{'city': 'город', 'cat': 'кот', 'book': 'книга'}"
      ]
     },
     "execution_count": 15,
     "metadata": {},
     "output_type": "execute_result"
    }
   ],
   "source": [
    "en_to_ru = {\n",
    "    'city':'город',\n",
    "    'cat':'кот',\n",
    "    'book':'книга'\n",
    "}\n",
    "en_to_ru"
   ]
  },
  {
   "cell_type": "code",
   "execution_count": 18,
   "metadata": {},
   "outputs": [
    {
     "name": "stdout",
     "output_type": "stream",
     "text": [
      "кот\n",
      "кот\n"
     ]
    }
   ],
   "source": [
    "print(en_to_ru['cat'])\n",
    "print(en_to_ru.get('cat'))\n"
   ]
  },
  {
   "cell_type": "code",
   "execution_count": 25,
   "metadata": {},
   "outputs": [
    {
     "name": "stdout",
     "output_type": "stream",
     "text": [
      "['city', 'cat', 'book']\n",
      "dict_keys(['city', 'cat', 'book'])\n",
      "dict_values(['город', 'кот', 'книга'])\n"
     ]
    }
   ],
   "source": [
    "print(list(en_to_ru))\n",
    "print(en_to_ru.keys())\n",
    "print(en_to_ru.values())\n"
   ]
  },
  {
   "cell_type": "code",
   "execution_count": 35,
   "metadata": {},
   "outputs": [
    {
     "name": "stdout",
     "output_type": "stream",
     "text": [
      "('city', 'город')\n",
      "('cat', ('кошка', 'Кот'))\n",
      "('book', 'книга')\n",
      "('dog', 'собака')\n"
     ]
    }
   ],
   "source": [
    "for i in en_to_ru.items():\n",
    "    print(i)"
   ]
  },
  {
   "cell_type": "code",
   "execution_count": 34,
   "metadata": {},
   "outputs": [],
   "source": [
    "en_to_ru['dog'] = ('собака')\n",
    "\n",
    "en_to_ru['cat'] = ('кошка', 'Кот')"
   ]
  },
  {
   "cell_type": "code",
   "execution_count": 31,
   "metadata": {},
   "outputs": [],
   "source": [
    "en_to_ru.update(dog = 'пес')"
   ]
  },
  {
   "cell_type": "markdown",
   "metadata": {},
   "source": [
    "Типы данных "
   ]
  },
  {
   "cell_type": "markdown",
   "metadata": {},
   "source": [
    "* изменяемые int, float, str, tuple ...\n",
    "* неизменяемые list, dict, set"
   ]
  },
  {
   "cell_type": "code",
   "execution_count": 160,
   "metadata": {},
   "outputs": [
    {
     "name": "stdout",
     "output_type": "stream",
     "text": [
      "1492.5079396533242\n",
      "1997018908048\n",
      "1997018908432\n",
      "4476.523818959973\n"
     ]
    }
   ],
   "source": [
    "a = b/2\n",
    "b = a * 3 - 1\n",
    "print(a)\n",
    "print(id(a))\n",
    "print(id(b))\n",
    "print(b)\n"
   ]
  },
  {
   "cell_type": "markdown",
   "metadata": {},
   "source": [
    "Аргументы функции"
   ]
  },
  {
   "cell_type": "markdown",
   "metadata": {},
   "source": [
    "способы:\n",
    "* неизменяемые передаются по значенению\n",
    "* неизменяемые по ссылке"
   ]
  },
  {
   "cell_type": "code",
   "execution_count": 163,
   "metadata": {},
   "outputs": [
    {
     "name": "stdout",
     "output_type": "stream",
     "text": [
      "show_int: x = 10\n",
      "x = 1\n"
     ]
    }
   ],
   "source": [
    "def show_int(x): #по значению\n",
    "    x = 10\n",
    "    print(f\"show_int: {x = }\")\n",
    "x = 1\n",
    "show_int(x)\n",
    "print(f\"{x = }\")"
   ]
  },
  {
   "cell_type": "code",
   "execution_count": 168,
   "metadata": {},
   "outputs": [
    {
     "name": "stdout",
     "output_type": "stream",
     "text": [
      "show_cities: cities = ['Тула', 'Раменское']\n",
      "cities = ['Тула']\n"
     ]
    }
   ],
   "source": [
    "def show_cities(cities: list):\n",
    "    cities.append('Раменское')\n",
    "    print(f\"show_cities: {cities = }\")\n",
    "cities = ['Тула']\n",
    "show_cities(cities[:])\n",
    "print(f\"{cities = }\")"
   ]
  },
  {
   "cell_type": "code",
   "execution_count": 1,
   "metadata": {},
   "outputs": [
    {
     "name": "stdout",
     "output_type": "stream",
     "text": [
      "show_cities: ['Тула', 'Воронеж']\n",
      "['Тула']\n"
     ]
    }
   ],
   "source": [
    "def show_cities_2(cities: list):\n",
    "    cities_local = cities[:]\n",
    "    cities_local.append('Воронеж')\n",
    "    print(f\"show_cities: {cities_local}\")\n",
    "\n",
    "cities = ['Тула']\n",
    "show_cities_2(cities)\n",
    "print(f\"{cities}\")"
   ]
  }
 ],
 "metadata": {
  "kernelspec": {
   "display_name": "Python 3",
   "language": "python",
   "name": "python3"
  },
  "language_info": {
   "codemirror_mode": {
    "name": "ipython",
    "version": 3
   },
   "file_extension": ".py",
   "mimetype": "text/x-python",
   "name": "python",
   "nbconvert_exporter": "python",
   "pygments_lexer": "ipython3",
   "version": "3.12.2"
  }
 },
 "nbformat": 4,
 "nbformat_minor": 2
}
