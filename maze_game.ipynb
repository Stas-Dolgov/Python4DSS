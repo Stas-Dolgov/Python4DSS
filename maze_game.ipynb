{
 "cells": [
  {
   "cell_type": "code",
   "execution_count": 17,
   "metadata": {},
   "outputs": [],
   "source": [
    "#pip install pygame"
   ]
  },
  {
   "cell_type": "code",
   "execution_count": 18,
   "metadata": {},
   "outputs": [],
   "source": [
    "import pygame\n",
    "import random\n"
   ]
  },
  {
   "cell_type": "code",
   "execution_count": 19,
   "metadata": {},
   "outputs": [],
   "source": [
    "pygame.init()\n",
    "\n",
    "# Константы\n",
    "WIDTH, HEIGHT = 800, 600\n",
    "CELL_SIZE = 40\n",
    "ROWS, COLS = HEIGHT // CELL_SIZE, WIDTH // CELL_SIZE\n",
    "WHITE = (255, 255, 255)\n",
    "BLACK = (0, 0, 0)\n",
    "GREEN = (0, 255, 0)\n",
    "BLUE = (0, 0, 255)\n",
    "\n",
    "# Создание окна\n",
    "screen = pygame.display.set_mode((WIDTH, HEIGHT))\n",
    "pygame.display.set_caption('Maze Game')\n",
    "clock = pygame.time.Clock()"
   ]
  },
  {
   "cell_type": "code",
   "execution_count": 20,
   "metadata": {},
   "outputs": [],
   "source": [
    "def generate_maze():\n",
    "    maze = [[1 for _ in range(COLS)] for _ in range(ROWS)]\n",
    "    start_row, start_col = 0, 0\n",
    "    maze[start_row][start_col] = 0\n",
    "    walls = [(start_row, start_col)]\n",
    "    \n",
    "    while walls:\n",
    "        row, col = random.choice(walls)\n",
    "        walls.remove((row, col))\n",
    "        \n",
    "        directions = [(0, 1), (1, 0), (0, -1), (-1, 0)]\n",
    "        random.shuffle(directions)\n",
    "        \n",
    "        for dr, dc in directions:\n",
    "            new_row, new_col = row + dr, col + dc\n",
    "            if 0 <= new_row < ROWS and 0 <= new_col < COLS and maze[new_row][new_col] == 1:\n",
    "                if sum([maze[new_row + dr][new_col + dc] for dr, dc in directions \n",
    "                        if 0 <= new_row + dr < ROWS and 0 <= new_col + dc < COLS]) > 2:\n",
    "                    maze[new_row][new_col] = 0\n",
    "                    walls.append((new_row, new_col))\n",
    "                break\n",
    "    return maze"
   ]
  },
  {
   "cell_type": "code",
   "execution_count": 21,
   "metadata": {},
   "outputs": [],
   "source": [
    "def draw_maze(maze):\n",
    "    for row in range(ROWS):\n",
    "        for col in range(COLS):\n",
    "            color = WHITE if maze[row][col] == 1 else BLACK\n",
    "            pygame.draw.rect(screen, color, (col * CELL_SIZE, row * CELL_SIZE, CELL_SIZE, CELL_SIZE))"
   ]
  },
  {
   "cell_type": "code",
   "execution_count": 22,
   "metadata": {},
   "outputs": [],
   "source": [
    "def move_player(player_pos, direction, maze):\n",
    "    row, col = player_pos\n",
    "    dr, dc = direction\n",
    "    new_row, new_col = row + dr, col + dc\n",
    "    if 0 <= new_row < ROWS and 0 <= new_col < COLS and maze[new_row][new_col] == 0:\n",
    "        return new_row, new_col\n",
    "    return player_pos\n",
    "\n",
    "def draw_player(player_pos):\n",
    "    row, col = player_pos\n",
    "    pygame.draw.rect(screen, GREEN, (col * CELL_SIZE, row * CELL_SIZE, CELL_SIZE, CELL_SIZE))"
   ]
  },
  {
   "cell_type": "code",
   "execution_count": 23,
   "metadata": {},
   "outputs": [],
   "source": [
    "def main():\n",
    "    maze = generate_maze()\n",
    "    player_pos = (0, 0)\n",
    "    end_pos = (ROWS - 1, COLS - 1)\n",
    "    \n",
    "    running = True\n",
    "    while running:\n",
    "        for event in pygame.event.get():\n",
    "            if event.type == pygame.QUIT:\n",
    "                running = False\n",
    "            elif event.type == pygame.KEYDOWN:\n",
    "                if event.key == pygame.K_UP:\n",
    "                    player_pos = move_player(player_pos, (-1, 0), maze)\n",
    "                elif event.key == pygame.K_DOWN:\n",
    "                    player_pos = move_player(player_pos, (1, 0), maze)\n",
    "                elif event.key == pygame.K_LEFT:\n",
    "                    player_pos = move_player(player_pos, (0, -1), maze)\n",
    "                elif event.key == pygame.K_RIGHT:\n",
    "                    player_pos = move_player(player_pos, (0, 1), maze)\n",
    "\n",
    "        screen.fill(BLACK)\n",
    "        draw_maze(maze)\n",
    "        draw_player(player_pos)\n",
    "        pygame.draw.rect(screen, BLUE, (end_pos[1] * CELL_SIZE, end_pos[0] * CELL_SIZE, CELL_SIZE, CELL_SIZE))\n",
    "        \n",
    "        if player_pos == end_pos:\n",
    "            print(\"You Win!\")\n",
    "            running = False\n",
    "        \n",
    "        pygame.display.flip()\n",
    "        clock.tick(30)\n",
    "\n",
    "    pygame.quit()\n",
    "\n",
    "if __name__ == \"__main__\":\n",
    "    main()"
   ]
  }
 ],
 "metadata": {
  "kernelspec": {
   "display_name": "Python 3",
   "language": "python",
   "name": "python3"
  },
  "language_info": {
   "codemirror_mode": {
    "name": "ipython",
    "version": 3
   },
   "file_extension": ".py",
   "mimetype": "text/x-python",
   "name": "python",
   "nbconvert_exporter": "python",
   "pygments_lexer": "ipython3",
   "version": "3.12.2"
  }
 },
 "nbformat": 4,
 "nbformat_minor": 2
}
