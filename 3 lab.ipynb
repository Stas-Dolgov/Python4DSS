{
 "cells": [
  {
   "cell_type": "code",
   "execution_count": 2,
   "metadata": {},
   "outputs": [],
   "source": [
    "#Форматирование строк"
   ]
  },
  {
   "cell_type": "code",
   "execution_count": 3,
   "metadata": {},
   "outputs": [
    {
     "name": "stdout",
     "output_type": "stream",
     "text": [
      "Привет Маша 19\n"
     ]
    }
   ],
   "source": [
    "print(\"Привет \" + \"Маша \" + str(19))"
   ]
  },
  {
   "cell_type": "code",
   "execution_count": 6,
   "metadata": {},
   "outputs": [
    {
     "name": "stdout",
     "output_type": "stream",
     "text": [
      "Привет, {4}\n",
      "Привет, Катя\n",
      "Привет, Катя! Тебе уже 19 лет\n",
      "Привет, Катя! Катя, тебе уже 19 лет\n",
      "pi = 3.14\n"
     ]
    }
   ],
   "source": [
    "print(\"Привет, {4}\")\n",
    "print(\"Привет, {}\".format(\"Катя\"))\n",
    "print(\"Привет, {}! Тебе уже {} лет\".format(\"Катя\", 19))\n",
    "print(\"Привет, {0}! {0}, тебе уже {1} лет\".format(\"Катя\", 19))\n",
    "print(\"{var} = {value}\".format(var = 'pi', value = 3.14))\n"
   ]
  },
  {
   "cell_type": "code",
   "execution_count": 7,
   "metadata": {},
   "outputs": [
    {
     "name": "stdout",
     "output_type": "stream",
     "text": [
      "col_12345\n",
      "Автобус №35\n",
      "   25\n",
      "25   \n",
      "pi = 3.141592\n",
      "pi = 3.1416\n"
     ]
    }
   ],
   "source": [
    "print (\"col_%d\" %12345)\n",
    "print (\"%s №%d\" %(\"Автобус\", 35))\n",
    "print (\"%5d\" %25)\n",
    "print (\"%-5d\" %25)\n",
    "print (\"pi = %f\" %3.141592)\n",
    "print (\"pi = %.4f\" %3.141592)"
   ]
  },
  {
   "cell_type": "code",
   "execution_count": 8,
   "metadata": {},
   "outputs": [
    {
     "name": "stdout",
     "output_type": "stream",
     "text": [
      "Меня зовут Маша. Мне 19 лет.\n"
     ]
    }
   ],
   "source": [
    "from string import Template\n",
    "\n",
    "name = \"Маша\"\n",
    "age = 19\n",
    "v = Template(\"Меня зовут $name. Мне $age лет.\")\n",
    "print(v.substitute(name=name, age=age))"
   ]
  },
  {
   "cell_type": "code",
   "execution_count": 9,
   "metadata": {},
   "outputs": [
    {
     "name": "stdout",
     "output_type": "stream",
     "text": [
      "(name)\n",
      "a + b = 5\n",
      "3\n"
     ]
    }
   ],
   "source": [
    "name = \"Вася\"\n",
    "print(f\"(name)\")\n",
    "\n",
    "a = 2\n",
    "b = 3\n",
    "print(f\"a + b = {a + b}\")\n",
    "print(f\"{a if a > b else b}\")"
   ]
  },
  {
   "cell_type": "code",
   "execution_count": 16,
   "metadata": {},
   "outputs": [
    {
     "name": "stdout",
     "output_type": "stream",
     "text": [
      "0.3333333333333333\n",
      "0.333333\n",
      " 0.33\n",
      "—\n",
      "ƭ\n"
     ]
    }
   ],
   "source": [
    "value = 1 / 3\n",
    "print(value)\n",
    "print(f\"{value:f}\")\n",
    "print(f\"{value: .2f}\")\n",
    "\n",
    "print(f\"{8212:c}\")\n",
    "print(f\"{429:c}\")"
   ]
  },
  {
   "cell_type": "code",
   "execution_count": 17,
   "metadata": {},
   "outputs": [
    {
     "name": "stdout",
     "output_type": "stream",
     "text": [
      "   15\n",
      "00015\n",
      "--995\n",
      "1_234_567_890\n",
      "1---234---567---890\n"
     ]
    }
   ],
   "source": [
    "print(f\"{15:5}\")\n",
    "print(f\"{15:05}\")\n",
    "print(f\"{995:-=5}\")\n",
    "print(f\"{1234567890:_}\")\n",
    "print(f\"{1234567890:_}\".replace('_', '---'))"
   ]
  },
  {
   "cell_type": "code",
   "execution_count": 21,
   "metadata": {},
   "outputs": [
    {
     "name": "stdout",
     "output_type": "stream",
     "text": [
      "(2, 3)\n",
      "x = 2, y = 3\n"
     ]
    }
   ],
   "source": [
    "def fun(x, y):\n",
    "    print(f\"{x = }, {y = }\")\n",
    "point = points[0]\n",
    "print(point)\n",
    "\n",
    "fun(*point)"
   ]
  },
  {
   "cell_type": "code",
   "execution_count": 19,
   "metadata": {},
   "outputs": [
    {
     "name": "stdout",
     "output_type": "stream",
     "text": [
      "[1, 2, 3]\n",
      "(1, 2, 3)\n",
      "[1, 2, 3]\n",
      "<class 'list'>\n",
      "<class 'tuple'>\n",
      "<class 'list'>\n"
     ]
    }
   ],
   "source": [
    "a = [1, 2, 3]\n",
    "b = tuple(a)\n",
    "c = list(b)\n",
    "print(a)\n",
    "print(b)\n",
    "print(c)\n",
    "print(type (a))\n",
    "print(type (b))\n",
    "print(type (c))"
   ]
  },
  {
   "cell_type": "code",
   "execution_count": 20,
   "metadata": {},
   "outputs": [
    {
     "name": "stdout",
     "output_type": "stream",
     "text": [
      "[(2, 3), (1, 4), (6, 5)]\n"
     ]
    }
   ],
   "source": [
    "points = [(2, 3), (1, 4), (6, 5)]\n",
    "print(points)"
   ]
  }
 ],
 "metadata": {
  "kernelspec": {
   "display_name": "Python 3",
   "language": "python",
   "name": "python3"
  },
  "language_info": {
   "name": "python",
   "version": "3.12.2"
  }
 },
 "nbformat": 4,
 "nbformat_minor": 2
}
