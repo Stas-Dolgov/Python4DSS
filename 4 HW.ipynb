{
 "cells": [
  {
   "cell_type": "code",
   "execution_count": 11,
   "metadata": {},
   "outputs": [
    {
     "name": "stdout",
     "output_type": "stream",
     "text": [
      "5\n",
      "4\n",
      "6\n",
      "1\n",
      "4\n",
      "4\n"
     ]
    }
   ],
   "source": [
    "\n",
    "import random\n",
    "\n",
    "def dice_generator(num_sides=6, values=[1,2,3,4,5,6]):\n",
    "    while True:\n",
    "        yield random.choice(values)\n",
    "\n",
    "# Пример использования функции с 6 гранями и значениями по умолчанию\n",
    "dice = dice_generator()\n",
    "for i in range(6):\n",
    "    print(next(dice))"
   ]
  },
  {
   "cell_type": "code",
   "execution_count": 7,
   "metadata": {},
   "outputs": [
    {
     "name": "stdout",
     "output_type": "stream",
     "text": [
      "7\n",
      "6\n",
      "2\n",
      "8\n",
      "4\n",
      "4\n",
      "5\n",
      "2\n",
      "2\n",
      "3\n"
     ]
    }
   ],
   "source": [
    "\n",
    "import random\n",
    "# Пример использования функции с 10 гранями и значениями от 0 до 9\n",
    "dice = dice_generator(10, list(range(10)))\n",
    "for i in range(10):\n",
    "    print(next(dice))"
   ]
  },
  {
   "cell_type": "code",
   "execution_count": 8,
   "metadata": {},
   "outputs": [
    {
     "name": "stdout",
     "output_type": "stream",
     "text": [
      "B\n",
      "B\n",
      "D\n",
      "D\n",
      "B\n",
      "A\n",
      "A\n",
      "D\n",
      "B\n",
      "C\n"
     ]
    }
   ],
   "source": [
    "# Пример использования функции с 4 гранями и строковыми значениями\n",
    "dice = dice_generator(4, ['A', 'B', 'C', 'D'])\n",
    "for _ in range(10):\n",
    "    print(next(dice))"
   ]
  },
  {
   "cell_type": "code",
   "execution_count": 14,
   "metadata": {},
   "outputs": [
    {
     "name": "stdout",
     "output_type": "stream",
     "text": [
      "X3z#$o>T.`\n",
      "U>~xV)l:B)\n",
      "s/Q*Pv@!V1\n",
      ",IngwY'NqK\n",
      "t`Vp70-5TD\n",
      "Nk7H=2JZoy\n",
      "2O@Y*chAT)\n",
      "`cDMJTJ[LP\n",
      "cf<FXiI%Cy\n",
      "${&~yJMwac\n"
     ]
    }
   ],
   "source": [
    "import random\n",
    "import string\n",
    "\n",
    "def generate_passwords(num_pw=True, pw_length=12, use_digits=True, use_lower=True, use_upper=True, use_special=True, special_chars=''):\n",
    "    \"\"\"\n",
    "    Generate random passwords.\n",
    "\n",
    "    Args:\n",
    "    num_pw (int): number of passwords to generate (default = None, i.e. generator will work infinitely)\n",
    "    pw_length (int): length of each password (default = 8)\n",
    "    use_digits (bool): whether to use digits in the password\n",
    "    use_lower (bool): whether to use lowercase letters in the password\n",
    "    use_upper (bool): whether to use uppercase letters in the password\n",
    "    use_special (bool): whether to use special characters in the password\n",
    "    special_chars (str): additional special characters to use in the password\n",
    "\n",
    "    Returns:\n",
    "    generator: yields random passwords\n",
    "    \"\"\"\n",
    "\n",
    "    if not any([use_digits, use_lower, use_upper, use_special]):\n",
    "        raise ValueError(\"At least one of use_digits, use_lower, use_upper, or use_special must be True\")\n",
    "\n",
    "    if num_pw is not None and num_pw <= 0:\n",
    "        raise ValueError(\"Number of passwords must be a positive integer\")\n",
    "\n",
    "    all_chars = ''\n",
    "    if use_digits:\n",
    "        all_chars += string.digits\n",
    "    if use_lower:\n",
    "        all_chars += string.ascii_lowercase\n",
    "    if use_upper:\n",
    "        all_chars += string.ascii_uppercase\n",
    "    if use_special:\n",
    "        all_chars += string.punctuation\n",
    "    all_chars += special_chars\n",
    "\n",
    "    while True:\n",
    "        password = ''.join(random.choices(all_chars, k=pw_length))\n",
    "        yield password\n",
    "\n",
    "        if num_pw is not None:\n",
    "            num_pw -= 1\n",
    "            if num_pw == 0:\n",
    "                break\n",
    "\n",
    "# Пример использования функции:\n",
    "password_generator = generate_passwords(num_pw=10, pw_length=10, use_digits=True, use_lower=True, use_upper=True, use_special=True)\n",
    "for password in password_generator:\n",
    "    print(password)"
   ]
  }
 ],
 "metadata": {
  "kernelspec": {
   "display_name": "Python 3",
   "language": "python",
   "name": "python3"
  },
  "language_info": {
   "name": "python",
   "version": "3.12.2"
  }
 },
 "nbformat": 4,
 "nbformat_minor": 2
}
