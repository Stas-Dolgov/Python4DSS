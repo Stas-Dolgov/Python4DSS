{
 "cells": [
  {
   "cell_type": "code",
   "execution_count": 12,
   "metadata": {},
   "outputs": [
    {
     "name": "stdout",
     "output_type": "stream",
     "text": [
      "False\n"
     ]
    }
   ],
   "source": [
    "def is_person_retiree(age: float, sex: str) -> bool:\n",
    "    \"\"\"Вернуть признак пенсионера.\n",
    "    Параметры:\n",
    "    age -> возраст (лет)\n",
    "    f / m = пол (женс / мужск)\"\"\"\n",
    "    if sex == 'f':\n",
    "        return age >= 56.5\n",
    "    elif sex == 'm':\n",
    "        return age >= 61.5\n",
    "    \n",
    "print(is_person_retiree(age=4, sex='f'))"
   ]
  },
  {
   "cell_type": "code",
   "execution_count": 35,
   "metadata": {},
   "outputs": [
    {
     "name": "stdout",
     "output_type": "stream",
     "text": [
      "************************************\n",
      "*                                  *\n",
      "*                                  *\n",
      "*                                  *\n",
      "*                                  *\n",
      "*                                  *\n",
      "*                                  *\n",
      "*                                  *\n",
      "*                                  *\n",
      "*                                  *\n",
      "*                                  *\n",
      "*                                  *\n",
      "*                                  *\n",
      "************************************\n"
     ]
    }
   ],
   "source": [
    "\n",
    "    width = 36\n",
    "    height = 14\n",
    "    symbol = \"*\"\n",
    "    zalivka = 0\n",
    "    for r in range (height):\n",
    "        if r == 0 or r == height - 1 or zalivka:\n",
    "            print(symbol * width)\n",
    "        else:\n",
    "            print(symbol + ' ' * (width - 2) + symbol)"
   ]
  },
  {
   "cell_type": "code",
   "execution_count": 38,
   "metadata": {},
   "outputs": [
    {
     "name": "stdout",
     "output_type": "stream",
     "text": [
      "15\n",
      "45\n"
     ]
    }
   ],
   "source": [
    "\"\"\"Анонимная функция\"\"\"\n",
    "\n",
    "\n",
    "func = lambda x, y: x + y\n",
    "\n",
    "print(func(7, 8))\n",
    "\n",
    "\n",
    "print((lambda x, y: x + y)(10, 35))\n"
   ]
  },
  {
   "cell_type": "code",
   "execution_count": 39,
   "metadata": {},
   "outputs": [
    {
     "name": "stdout",
     "output_type": "stream",
     "text": [
      "8\n"
     ]
    }
   ],
   "source": [
    "def sum6(x, y):\n",
    "    return x + y\n",
    "my_func = sum6\n",
    "print(sum6(1, 7))"
   ]
  },
  {
   "cell_type": "markdown",
   "metadata": {},
   "source": [
    "#Занятия Python\n",
    "2024.02.13\n",
    "* aa\n",
    "* jj\n",
    "2024.02.19\n",
    "* 7\n",
    "* 90"
   ]
  }
 ],
 "metadata": {
  "kernelspec": {
   "display_name": "Python 3",
   "language": "python",
   "name": "python3"
  },
  "language_info": {
   "codemirror_mode": {
    "name": "ipython",
    "version": 3
   },
   "file_extension": ".py",
   "mimetype": "text/x-python",
   "name": "python",
   "nbconvert_exporter": "python",
   "pygments_lexer": "ipython3",
   "version": "3.12.2"
  }
 },
 "nbformat": 4,
 "nbformat_minor": 2
}
