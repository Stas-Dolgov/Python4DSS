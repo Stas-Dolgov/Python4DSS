{
 "cells": [
  {
   "cell_type": "code",
   "execution_count": 52,
   "metadata": {},
   "outputs": [
    {
     "name": "stdout",
     "output_type": "stream",
     "text": [
      "Карл у Клары украл кораллы,\n",
      " Клара у Карла украла кларнет.\n",
      "'Карл у Клары украл кораллы,\\n Клара у Карла украла кларнет.'\n",
      "['Карл', 'у', 'Клары', 'украл', 'кораллы,', 'Клара', 'у', 'Карла', 'украла', 'кларнет.']\n",
      "['Карл у Клары украл кораллы,', ' Клара у Карла украла кларнет.']\n",
      "{'\\n', 'К', 'о', 'е', 'к', '.', 'а', 'р', 'т', ' ', 'ы', 'у', ',', 'н', 'л'}\n",
      "['\\n', 'К', 'о', 'е', 'к', '.', 'а', 'р', 'т', ' ', 'ы', 'у', ',', 'н', 'л']\n"
     ]
    }
   ],
   "source": [
    "v = '''Карл у Клары украл кораллы,\n",
    " Клара у Карла украла кларнет.'''\n",
    "\n",
    "print(v)\n",
    "print(repr(v))\n",
    "print(v.split())\n",
    "print(v.splitlines())\n",
    "print(set(v))\n",
    "print(list(set(v)))"
   ]
  },
  {
   "cell_type": "code",
   "execution_count": 8,
   "metadata": {},
   "outputs": [
    {
     "name": "stdout",
     "output_type": "stream",
     "text": [
      "['Карл', 'у', 'Клары', 'украл']\n",
      "['Карл', 'Клары', 'у', 'украл']\n",
      "['Карл', 'Карла', 'Клара', 'Клары']\n"
     ]
    }
   ],
   "source": [
    "print(v.split()[:4])\n",
    "print(sorted(v.split()[:4]))\n",
    "print(sorted(v.split())[:4])"
   ]
  },
  {
   "cell_type": "code",
   "execution_count": 14,
   "metadata": {},
   "outputs": [
    {
     "name": "stdout",
     "output_type": "stream",
     "text": [
      "['Карл', 'Карла', 'Клара', 'Клары', 'кларнет', 'кораллы,', 'у', 'у', 'украл', 'украла']\n",
      "['карл', 'карла', 'клара', 'кларнет', 'клары', 'кораллы,', 'у', 'у', 'украл', 'украла']\n",
      "['Карл', 'Карла', 'Клара', 'кларнет', 'Клары', 'кораллы,', 'у', 'у', 'украл', 'украла']\n",
      "['Карл', 'Карла', 'Клара', 'кларнет', 'Клары', 'кораллы,', 'у', 'у', 'украл', 'украла']\n",
      "['у', 'у', 'Карл', 'Клары', 'украл', 'Клара', 'Карла', 'украла', 'кларнет', 'кораллы,']\n",
      "['у', 'у', 'Карл', 'Клары', 'украл', 'Клара', 'Карла', 'украла', 'кларнет', 'кораллы,']\n"
     ]
    }
   ],
   "source": [
    "print(sorted(v.split()))\n",
    "print(sorted(v.lower().split()))\n",
    "print(sorted(v.split(), key = lambda i: str(i).lower()))\n",
    "print(sorted(v.split(), key = str.lower))\n",
    "print(sorted(v.split(), key = lambda i: len(i)))\n",
    "print(sorted(v.split(), key = len))\n"
   ]
  },
  {
   "cell_type": "code",
   "execution_count": 18,
   "metadata": {},
   "outputs": [
    {
     "name": "stdout",
     "output_type": "stream",
     "text": [
      "['Карл', 'у', 'Клары', 'украл', 'кораллы,', 'Клара', 'у', 'Карла', 'украла', 'кларнет']\n",
      "['кларнет', 'украла', 'Карла', 'у', 'Клара', 'кораллы,', 'украл', 'Клары', 'у', 'Карл']\n",
      "<list_reverseiterator object at 0x000001BAF8681510>\n",
      "['кларнет', 'украла', 'Карла', 'у', 'Клара', 'кораллы,', 'украл', 'Клары', 'у', 'Карл']\n"
     ]
    }
   ],
   "source": [
    "print(v.split())\n",
    "print(v.split()[::-1])\n",
    "print(reversed(v.split()))\n",
    "print(list(reversed(v.split())))"
   ]
  },
  {
   "cell_type": "code",
   "execution_count": 32,
   "metadata": {},
   "outputs": [
    {
     "name": "stdout",
     "output_type": "stream",
     "text": [
      "['Карл', 'у', 'Клары', 'украл', 'кораллы,', 'Клара', 'у', 'Карла', 'украла', 'кларнет']\n",
      "['Кар', 'у', 'Кла', 'укр', 'кор', 'Кла', 'у', 'Кар', 'укр', 'кла']\n",
      "['Кар*', 'у', 'Кла**', 'укр**', 'кор*****', 'Кла**', 'у', 'Кар**', 'укр***', 'кла****']\n",
      "['Карарл', 'у', 'Клалары', 'укркрал', 'корораллы,', 'Клалара', 'у', 'Карарла', 'укркрала', 'клаларнет']\n"
     ]
    }
   ],
   "source": [
    "print([i for i in v.split()])\n",
    "print([i[:3] for i in v.split()])\n",
    "print([i[:3] + '*' * len(i[3:]) for i in v.split()])\n",
    "print([i[:3] + i[1:] for i in v.split()])"
   ]
  },
  {
   "cell_type": "code",
   "execution_count": 40,
   "metadata": {},
   "outputs": [
    {
     "name": "stdout",
     "output_type": "stream",
     "text": [
      "hello\n",
      "['Ка__', 'у', 'Кл___', 'ук___', 'ко______', 'Кл___', 'у', 'Ка___', 'ук____', 'кл_____']\n",
      "['Карл', 'у', 'Клар_', 'укра_', 'кора____', 'Клар_', 'у', 'Карл_', 'укра__', 'клар___']\n",
      "Карл у Клар_ укра_ кора____ Клар_ у Карл_ укра__ клар___\n",
      "Ка__ у Кл___ ук___ ко______ Кл___ у Ка___ ук____ кл_____\n"
     ]
    }
   ],
   "source": [
    "f = lambda i, n = 2: i[:n] + '_' * len(i[n:])\n",
    "print(f'hello')\n",
    "print([f(i) for i in v.split()])\n",
    "print([f(i, 4) for i in v.split()])\n",
    "print(*[f(i, 4) for i in v.split()])\n",
    "print(' '.join([f(i) for i in v.split()]))\n"
   ]
  },
  {
   "cell_type": "code",
   "execution_count": 43,
   "metadata": {},
   "outputs": [
    {
     "name": "stdout",
     "output_type": "stream",
     "text": [
      "['Карл у Клары украл кораллы,', ' Клара у Карла украла кларнет']\n"
     ]
    }
   ],
   "source": [
    "print([i for i in v.splitlines()])\n"
   ]
  },
  {
   "cell_type": "code",
   "execution_count": 44,
   "metadata": {},
   "outputs": [
    {
     "name": "stdout",
     "output_type": "stream",
     "text": [
      "[['Ка__', 'у', 'Кл___', 'ук___', 'ко______'], ['Кл___', 'у', 'Ка___', 'ук____', 'кл_____']]\n"
     ]
    }
   ],
   "source": [
    "f_word = lambda i, n = 2: i[:n] + '_' * len(i[n:])\n",
    "f_line = lambda i: [f_word(i) for i in i.split()]\n",
    "print([f_line(i) for i in v.splitlines()])"
   ]
  },
  {
   "cell_type": "code",
   "execution_count": 54,
   "metadata": {},
   "outputs": [
    {
     "name": "stdout",
     "output_type": "stream",
     "text": [
      "Карл у Клары украл кораллы,\n",
      " Клара у Карла украла кларнет.\n",
      "Карл у Клары украл кораллы Клара у Карла украла кларнет\n",
      "[(0, 'Карл'), (1, 'у'), (2, 'Клары'), (3, 'украл'), (4, 'кораллы'), (5, 'Клара'), (6, 'у'), (7, 'Карла'), (8, 'украла'), (9, 'кларнет')]\n"
     ]
    }
   ],
   "source": [
    "vv = v.replace('\\n', '').replace(',', '').replace('.', '') \n",
    "print(v)\n",
    "print(vv)\n",
    "print(list(enumerate(vv.split())))\n"
   ]
  },
  {
   "cell_type": "code",
   "execution_count": 53,
   "metadata": {},
   "outputs": [
    {
     "name": "stdout",
     "output_type": "stream",
     "text": [
      "Карл у Клары украл кораллы\n",
      " Клара у Карла украла кларнет\n"
     ]
    }
   ],
   "source": [
    "print(''.join(i for i in v if i not in ['.', ',']))"
   ]
  }
 ],
 "metadata": {
  "kernelspec": {
   "display_name": "Python 3",
   "language": "python",
   "name": "python3"
  },
  "language_info": {
   "codemirror_mode": {
    "name": "ipython",
    "version": 3
   },
   "file_extension": ".py",
   "mimetype": "text/x-python",
   "name": "python",
   "nbconvert_exporter": "python",
   "pygments_lexer": "ipython3",
   "version": "3.12.2"
  }
 },
 "nbformat": 4,
 "nbformat_minor": 2
}
