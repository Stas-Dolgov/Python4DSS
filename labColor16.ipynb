{
 "cells": [
  {
   "cell_type": "markdown",
   "metadata": {},
   "source": [
    "labColor16\n"
   ]
  },
  {
   "cell_type": "code",
   "execution_count": 17,
   "metadata": {},
   "outputs": [
    {
     "name": "stdout",
     "output_type": "stream",
     "text": [
      "1\n",
      "\u001b[31;32m2\n",
      "\u001b[31;12m3\n",
      "\u001b[33;12m4\n",
      "\u001b[36;25m5\n",
      "\u001b[30;25m6\n",
      "\u001b[36;25m7\n"
     ]
    }
   ],
   "source": [
    "print('1')\n",
    "print('\\033[31;32m2')\n",
    "print('\\033[31;12m3')\n",
    "print('\\033[33;12m4')\n",
    "print('\\033[36;25m5')\n",
    "print('\\033[30;25m6')\n",
    "print('\\033[36;25m7')"
   ]
  },
  {
   "cell_type": "code",
   "execution_count": null,
   "metadata": {},
   "outputs": [],
   "source": []
  }
 ],
 "metadata": {
  "kernelspec": {
   "display_name": "Python 3",
   "language": "python",
   "name": "python3"
  },
  "language_info": {
   "codemirror_mode": {
    "name": "ipython",
    "version": 3
   },
   "file_extension": ".py",
   "mimetype": "text/x-python",
   "name": "python",
   "nbconvert_exporter": "python",
   "pygments_lexer": "ipython3",
   "version": "3.12.2"
  }
 },
 "nbformat": 4,
 "nbformat_minor": 2
}
