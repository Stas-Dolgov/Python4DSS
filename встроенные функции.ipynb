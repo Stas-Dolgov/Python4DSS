{
 "cells": [
  {
   "cell_type": "markdown",
   "metadata": {},
   "source": [
    "Встроеннные функции (built in functions)"
   ]
  },
  {
   "cell_type": "code",
   "execution_count": 39,
   "metadata": {},
   "outputs": [
    {
     "name": "stdout",
     "output_type": "stream",
     "text": [
      "['1,', '2,', '3,', '4,', '5']\n"
     ]
    }
   ],
   "source": [
    "v = \"1, 2, 3, 4, 5\"\n",
    "print(v.split())\n"
   ]
  },
  {
   "cell_type": "code",
   "execution_count": 9,
   "metadata": {},
   "outputs": [
    {
     "name": "stdout",
     "output_type": "stream",
     "text": [
      "['1', '2', '3', '4', '5']\n",
      "[10, 20, 30, 40, 50]\n",
      "\n",
      "['1', '2', '3', '4', '5']\n",
      "[10, 20, 30, 40, 50]\n"
     ]
    }
   ],
   "source": [
    "v = [1, 2, 3, 4, 5]\n",
    "print(list(map(str, v)))\n",
    "print(list(map(lambda i: i * 10, v)))\n",
    "print()\n",
    "print([str(i) for i in v])\n",
    "print([i * 10 for i in v])"
   ]
  },
  {
   "cell_type": "code",
   "execution_count": 15,
   "metadata": {},
   "outputs": [
    {
     "name": "stdout",
     "output_type": "stream",
     "text": [
      "[0, 1, 2, 3, 4, 5, 6, 7, 8, 9]\n",
      "[1, 3, 5, 7, 9]\n",
      "[4, 5, 6, 7, 8, 9]\n",
      "\n",
      "[1, 3, 5, 7, 9]\n",
      "[4, 5, 6, 7, 8, 9]\n"
     ]
    }
   ],
   "source": [
    "v = list(range(10))\n",
    "print(v)\n",
    "print(list(filter(lambda i:i % 2, v)))\n",
    "print(list(filter(lambda i:i > 3, v)))\n",
    "print()\n",
    "print([i for i in v if i % 2])\n",
    "print([i for i in v if i > 3])\n",
    "\n",
    "\n"
   ]
  },
  {
   "cell_type": "code",
   "execution_count": 16,
   "metadata": {},
   "outputs": [
    {
     "name": "stdout",
     "output_type": "stream",
     "text": [
      "['1', '3', '7', '8']\n",
      "['8', '7', '3', '1']\n",
      "['1', '7', '3', '8']\n"
     ]
    }
   ],
   "source": [
    "print(sorted(\"8371\"))\n",
    "print(sorted(\"8371\", reverse = True))\n",
    "print(list(reversed(\"8371\")))\n"
   ]
  },
  {
   "cell_type": "code",
   "execution_count": 22,
   "metadata": {},
   "outputs": [
    {
     "name": "stdout",
     "output_type": "stream",
     "text": [
      "['ялта', 'москва', 'воронеж']\n",
      "['воронеж', 'москва', 'ялта']\n",
      "['ялта', 'москва', 'воронеж']\n",
      "['воронеж', 'москва', 'ялта']\n"
     ]
    }
   ],
   "source": [
    "v = \"ялта, москва, воронеж\".split(', ')\n",
    "print(v)\n",
    "print(sorted(v))\n",
    "print(v)\n",
    "v.sort()\n",
    "print(v)"
   ]
  },
  {
   "cell_type": "code",
   "execution_count": 23,
   "metadata": {},
   "outputs": [
    {
     "name": "stdout",
     "output_type": "stream",
     "text": [
      "[-3, 1, 2, 5, 7, 8]\n",
      "[1, 2, -3, 5, 7, 8]\n"
     ]
    }
   ],
   "source": [
    "v = [8, -3, 2, 5, 7, 1]\n",
    "print(sorted(v))\n",
    "print(sorted(v, key = abs))\n"
   ]
  },
  {
   "cell_type": "code",
   "execution_count": 27,
   "metadata": {},
   "outputs": [
    {
     "name": "stdout",
     "output_type": "stream",
     "text": [
      "[(0, 2), (1, 3), (2, 3), (4, 2)]\n"
     ]
    }
   ],
   "source": [
    "v = [(1, 3), (2, 3), (4, 2), (0, 2)]\n",
    "print(sorted(v))\n"
   ]
  }
 ],
 "metadata": {
  "kernelspec": {
   "display_name": "Python 3",
   "language": "python",
   "name": "python3"
  },
  "language_info": {
   "codemirror_mode": {
    "name": "ipython",
    "version": 3
   },
   "file_extension": ".py",
   "mimetype": "text/x-python",
   "name": "python",
   "nbconvert_exporter": "python",
   "pygments_lexer": "ipython3",
   "version": "3.12.2"
  }
 },
 "nbformat": 4,
 "nbformat_minor": 2
}
