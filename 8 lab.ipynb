{
 "cells": [
  {
   "cell_type": "markdown",
   "metadata": {},
   "source": [
    "замер скорости кода"
   ]
  },
  {
   "cell_type": "markdown",
   "metadata": {},
   "source": [
    "Модуль time"
   ]
  },
  {
   "cell_type": "code",
   "execution_count": 3,
   "metadata": {},
   "outputs": [],
   "source": [
    "N_COUNT = 10000000"
   ]
  },
  {
   "cell_type": "code",
   "execution_count": 1,
   "metadata": {},
   "outputs": [
    {
     "ename": "SyntaxError",
     "evalue": "invalid syntax (1734928945.py, line 1)",
     "output_type": "error",
     "traceback": [
      "\u001b[1;36m  Cell \u001b[1;32mIn[1], line 1\u001b[1;36m\u001b[0m\n\u001b[1;33m    //tm_start = time.time()\u001b[0m\n\u001b[1;37m    ^\u001b[0m\n\u001b[1;31mSyntaxError\u001b[0m\u001b[1;31m:\u001b[0m invalid syntax\n"
     ]
    }
   ],
   "source": [
    "tm_start = time.time()\n",
    "\n",
    "n_sum = 0\n",
    "for i in range(N_COUNT):\n",
    "    n_sum += i\n",
    "print(n_sum)\n",
    "tm_s = time.time() - tm_start\n",
    "print(f\"{tm_s} s\")"
   ]
  },
  {
   "cell_type": "code",
   "execution_count": null,
   "metadata": {},
   "outputs": [
    {
     "ename": "AttributeError",
     "evalue": "type object 'TimeoutError' has no attribute 'time'",
     "output_type": "error",
     "traceback": [
      "\u001b[1;31m---------------------------------------------------------------------------\u001b[0m\n",
      "\u001b[1;31mAttributeError\u001b[0m                            Traceback (most recent call last)\n",
      "Cell \u001b[1;32mIn[4], line 1\u001b[0m\n",
      "\u001b[1;32m----> 1\u001b[0m tm_start \u001b[38;5;241m=\u001b[39m \u001b[38;5;167;43;01mTimeoutError\u001b[39;49;00m\u001b[38;5;241;43m.\u001b[39;49m\u001b[43mtime\u001b[49m()\n",
      "\u001b[0;32m      3\u001b[0m n_sum \u001b[38;5;241m=\u001b[39m \u001b[38;5;241m0\u001b[39m\n",
      "\u001b[0;32m      4\u001b[0m \u001b[38;5;28;01mfor\u001b[39;00m i \u001b[38;5;129;01min\u001b[39;00m \u001b[38;5;28mrange\u001b[39m(N_COUNT):\n",
      "\n",
      "\u001b[1;31mAttributeError\u001b[0m: type object 'TimeoutError' has no attribute 'time'"
     ]
    }
   ],
   "source": [
    "tm_start = ()\n",
    "\n",
    "n_sum = 0\n",
    "for i in range(N_COUNT):\n",
    "    n_sum += i\n",
    "print(n_sum)\n",
    "\n",
    "tm_s = () - tm_start\n",
    "print(f\"{tm_s} s\")"
   ]
  },
  {
   "cell_type": "code",
   "execution_count": 4,
   "metadata": {},
   "outputs": [
    {
     "name": "stdout",
     "output_type": "stream",
     "text": [
      "49999995000000\n",
      "CPU times: total: 328 ms\n",
      "Wall time: 832 ms\n"
     ]
    }
   ],
   "source": [
    "%%time\n",
    "n_sum = 0\n",
    "for i in range(N_COUNT):\n",
    "    n_sum += i\n",
    "print(n_sum)"
   ]
  },
  {
   "cell_type": "code",
   "execution_count": 6,
   "metadata": {},
   "outputs": [
    {
     "name": "stdout",
     "output_type": "stream",
     "text": [
      "430 ms ± 27.1 ms per loop (mean ± std. dev. of 7 runs, 1 loop each)\n"
     ]
    }
   ],
   "source": [
    "def f(n_count):\n",
    "    n_sum = 0\n",
    "    for i in range(n_count):\n",
    "        n_sum += i\n",
    "    return n_sum\n",
    "%timeit f(N_COUNT)"
   ]
  }
 ],
 "metadata": {
  "kernelspec": {
   "display_name": "Python 3",
   "language": "python",
   "name": "python3"
  },
  "language_info": {
   "codemirror_mode": {
    "name": "ipython",
    "version": 3
   },
   "file_extension": ".py",
   "mimetype": "text/x-python",
   "name": "python",
   "nbconvert_exporter": "python",
   "pygments_lexer": "ipython3",
   "version": "3.12.2"
  }
 },
 "nbformat": 4,
 "nbformat_minor": 2
}
