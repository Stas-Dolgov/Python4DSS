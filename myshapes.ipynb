{
 "cells": [
  {
   "cell_type": "code",
   "execution_count": null,
   "metadata": {},
   "outputs": [],
   "source": [
    "def print_rectangle(w: int, h: int, s: str = '*', is_fill: bool = True):\n",
    "    for r in range(h):\n",
    "        if r == 0 or r == h - 1 or is_fill:\n",
    "            print(s * w)\n",
    "        else:\n",
    "            print(s + ' ' * (w - 2) + s)\n",
    "print('ok/')\n",
    "if __name__ == '__main__':\n",
    "    print('vjlekm ukfdysq')\n",
    "    "
   ]
  }
 ],
 "metadata": {
  "language_info": {
   "name": "python"
  }
 },
 "nbformat": 4,
 "nbformat_minor": 2
}
