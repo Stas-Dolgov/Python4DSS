{
 "cells": [
  {
   "cell_type": "code",
   "execution_count": null,
   "metadata": {},
   "outputs": [],
   "source": []
  },
  {
   "cell_type": "code",
   "execution_count": null,
   "metadata": {},
   "outputs": [],
   "source": [
    "#Основы Python"
   ]
  },
  {
   "cell_type": "code",
   "execution_count": null,
   "metadata": {},
   "outputs": [
    {
     "name": "stdout",
     "output_type": "stream",
     "text": [
      "5\n",
      "8\n",
      "false\n",
      "falsefalsefalse\n",
      "---------------\n"
     ]
    }
   ],
   "source": [
    "print(5)\n",
    "print(5 + 3)\n",
    "print(\"false\")\n",
    "print(\"false\" * 3)\n",
    "print(\"-\" * 15)\n"
   ]
  },
  {
   "cell_type": "code",
   "execution_count": null,
   "metadata": {},
   "outputs": [
    {
     "name": "stdout",
     "output_type": "stream",
     "text": [
      "1 1 2 1 3 1 4\n",
      "1-2-3-4 4566"
     ]
    }
   ],
   "source": [
    "print(1, 2, 3, 4, sep=\" 1 \")\n",
    "print(1, 2, 3, 4, sep=\"-\", end=\" 4566\")"
   ]
  },
  {
   "cell_type": "code",
   "execution_count": null,
   "metadata": {},
   "outputs": [
    {
     "name": "stdout",
     "output_type": "stream",
     "text": [
      "range(0, 10)\n",
      "700 690 680 670 660 650 640 630 620 610 600 590 580 570 560 550 540 530 520 510\n",
      "7 17 27 37 47\n",
      "7 11 15 19 23\n"
     ]
    }
   ],
   "source": [
    "\n",
    "print(range(10))\n",
    "print(*range(700, 500, -10))\n",
    "print(*range(7, 50, 10))\n",
    "print(*range(7, 24, 4))"
   ]
  },
  {
   "cell_type": "code",
   "execution_count": null,
   "metadata": {},
   "outputs": [
    {
     "name": "stdout",
     "output_type": "stream",
     "text": [
      "4.5\n",
      "4\n",
      "1\n",
      "81\n",
      "18\n",
      "False\n",
      "True\n",
      "False\n"
     ]
    }
   ],
   "source": [
    "print(9 / 2)\n",
    "print(9 // 2)\n",
    "print(9 % 2)\n",
    "print(9 ** 2)\n",
    "print(9 * 2)\n",
    "print(9 == 2)\n",
    "print(9 != 2)\n",
    "print(9 < 2)\n"
   ]
  },
  {
   "cell_type": "code",
   "execution_count": null,
   "metadata": {},
   "outputs": [
    {
     "name": "stdout",
     "output_type": "stream",
     "text": [
      "True\n"
     ]
    }
   ],
   "source": [
    "x = 88\n",
    "y = 55\n",
    "print(x > y and 25 < x - y)"
   ]
  },
  {
   "cell_type": "code",
   "execution_count": null,
   "metadata": {},
   "outputs": [
    {
     "name": "stdout",
     "output_type": "stream",
     "text": [
      "17\n"
     ]
    }
   ],
   "source": [
    "s = \"Visual Studio Cod\"\n",
    "print(len (s))"
   ]
  },
  {
   "cell_type": "code",
   "execution_count": null,
   "metadata": {},
   "outputs": [
    {
     "name": "stdout",
     "output_type": "stream",
     "text": [
      "Visual Studio Cod\n",
      "VISUAL STUDIO COD\n",
      "visual studio cod\n",
      "Visual studio cod\n",
      "Visual Studio Cod\n",
      "-----------Visual Studio Cod------------\n"
     ]
    }
   ],
   "source": [
    "print(s)\n",
    "print(s.upper())\n",
    "print(s.lower())\n",
    "print(s.capitalize())\n",
    "print(s.lower().title())\n",
    "print(s.center(40, \"-\"))"
   ]
  },
  {
   "cell_type": "code",
   "execution_count": null,
   "metadata": {},
   "outputs": [
    {
     "name": "stdout",
     "output_type": "stream",
     "text": [
      "2\n",
      "1\n",
      "1\n",
      "11\n"
     ]
    }
   ],
   "source": [
    "print(s.count('i'))\n",
    "print(s.index('i'))\n",
    "print(s.find('i'))\n",
    "print(s.rfind('i'))"
   ]
  },
  {
   "cell_type": "code",
   "execution_count": null,
   "metadata": {},
   "outputs": [],
   "source": []
  },
  {
   "cell_type": "code",
   "execution_count": null,
   "metadata": {},
   "outputs": [
    {
     "name": "stdout",
     "output_type": "stream",
     "text": [
      "True\n",
      "True\n",
      "True\n",
      "True\n",
      "True\n"
     ]
    }
   ],
   "source": [
    "print(\"qwert123\".isalnum())\n",
    "print(\"123\".isnumeric())\n",
    "print(\"qwert\".isalpha())\n",
    "print(\"qwert123\".isascii())\n",
    "print(\"qwert123\".islower())"
   ]
  },
  {
   "cell_type": "code",
   "execution_count": null,
   "metadata": {},
   "outputs": [
    {
     "name": "stdout",
     "output_type": "stream",
     "text": [
      "['Visual', 'Studio', 'Cod']\n",
      "['Visual Studio Cod']\n",
      "V1sual Stud1o Cod\n",
      "Visual Studi0 C0d\n"
     ]
    }
   ],
   "source": [
    "s2 = s\n",
    "print(s.split())\n",
    "print(s.splitlines())\n",
    "print(s2.replace(\"i\", \"1\"))\n",
    "print(s.replace(\"o\", \"0\"))\n"
   ]
  },
  {
   "cell_type": "code",
   "execution_count": null,
   "metadata": {},
   "outputs": [
    {
     "name": "stdout",
     "output_type": "stream",
     "text": [
      "Visual Studio Cod\n",
      "doC oidutS lausiV\n",
      "CODM\n"
     ]
    }
   ],
   "source": [
    "print(s)\n",
    "\n",
    "print(s[::-1])\n",
    "print(s.upper()[14:] + \"M\")\n",
    "\n"
   ]
  },
  {
   "cell_type": "code",
   "execution_count": null,
   "metadata": {},
   "outputs": [
    {
     "ename": "SyntaxError",
     "evalue": "invalid syntax (3923929605.py, line 3)",
     "output_type": "error",
     "traceback": [
      "\u001b[1;36m  Cell \u001b[1;32mIn[9], line 3\u001b[1;36m\u001b[0m\n",
      "\u001b[1;33m    print(z.(\" \"))\u001b[0m\n",
      "\u001b[1;37m            ^\u001b[0m\n",
      "\u001b[1;31mSyntaxError\u001b[0m\u001b[1;31m:\u001b[0m invalid syntax\n"
     ]
    }
   ],
   "source": [
    "z = \" pyt  ho  n        \"\n",
    "print(z.strip(\" \"))\n",
    "print(z.(\" \"))"
   ]
  },
  {
   "cell_type": "code",
   "execution_count": null,
   "metadata": {},
   "outputs": [
    {
     "name": "stdout",
     "output_type": "stream",
     "text": [
      "2\n"
     ]
    }
   ],
   "source": [
    "x = 2\n",
    "match x:\n",
    "    case 1: print(1)\n",
    "    case 2: print(2)\n",
    "    case 3: print(3)\n",
    "    case _: print(\"lheujt\")\n"
   ]
  },
  {
   "cell_type": "code",
   "execution_count": null,
   "metadata": {},
   "outputs": [
    {
     "name": "stdout",
     "output_type": "stream",
     "text": [
      "2\n"
     ]
    }
   ],
   "source": [
    "x = 2\n",
    "y = 3\n",
    "match x, y:\n",
    "    case 1, 1: print(11)\n",
    "    case 2, _: print(2)\n",
    "    case 2, 3: print(7)\n",
    "    case _, 3: print(3)"
   ]
  },
  {
   "cell_type": "code",
   "execution_count": null,
   "metadata": {},
   "outputs": [
    {
     "name": "stdout",
     "output_type": "stream",
     "text": [
      "r8\n"
     ]
    }
   ],
   "source": [
    "x = 6\n",
    "y = 4\n",
    "if x + y < x - 5:\n",
    "    print(\"tt\")\n",
    "else:\n",
    "    print(\"r8\")"
   ]
  },
  {
   "cell_type": "code",
   "execution_count": null,
   "metadata": {},
   "outputs": [
    {
     "name": "stdout",
     "output_type": "stream",
     "text": [
      "0\n",
      "1\n",
      "2\n",
      "3\n",
      "4\n",
      "5\n",
      "6\n",
      "u\n",
      "u\n",
      "u\n",
      "u\n"
     ]
    }
   ],
   "source": [
    "for i in range(7):\n",
    "    print(i)\n",
    "\n",
    "for i in \"uuuu\":\n",
    "    print(i)"
   ]
  },
  {
   "cell_type": "code",
   "execution_count": null,
   "metadata": {},
   "outputs": [
    {
     "name": "stdout",
     "output_type": "stream",
     "text": [
      "0 2 3 4 5 "
     ]
    }
   ],
   "source": [
    "for i in range(7):\n",
    "    if i == 1:\n",
    "        continue\n",
    "    if i == 6:\n",
    "        break\n",
    "    print(i, end=' ')\n"
   ]
  },
  {
   "cell_type": "code",
   "execution_count": null,
   "metadata": {},
   "outputs": [
    {
     "name": "stdout",
     "output_type": "stream",
     "text": [
      "0000000000\n",
      "0000000000\n",
      "0000000000\n",
      "0000000000\n",
      "0000000000\n",
      "0000000000\n"
     ]
    }
   ],
   "source": [
    "q = 6\n",
    "w = 10\n",
    "simv = \"0\"\n",
    "\n",
    "for u in range(q):\n",
    "    print(simv * w)"
   ]
  }
 ],
 "metadata": {
  "language_info": {
   "name": "python"
  }
 },
 "nbformat": 4,
 "nbformat_minor": 2
}
