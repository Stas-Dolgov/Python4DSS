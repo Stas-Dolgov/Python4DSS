{
 "cells": [
  {
   "cell_type": "code",
   "execution_count": null,
   "metadata": {},
   "outputs": [
    {
     "name": "stdout",
     "output_type": "stream",
     "text": [
      "        A\n",
      "       AAA\n",
      "      AAAAA\n",
      "     AAAAAAA\n",
      "    AAAAAAAAA\n",
      "   AAAAAAAAAAA\n",
      "  AAAAAAAAAAAAA\n",
      " AAAAAAAAAAAAAAA\n",
      "AAAAAAAAAAAAAAAAA\n",
      "\n",
      "\n"
     ]
    }
   ],
   "source": [
    "x = 9\n",
    "for i in range(x):\n",
    "    print('%s%s' % (' ' * (x-i-1), 'A' * (i*2+1)))\n",
    "\n",
    "print(\"\\n\")"
   ]
  },
  {
   "cell_type": "code",
   "execution_count": 2,
   "metadata": {},
   "outputs": [
    {
     "name": "stdout",
     "output_type": "stream",
     "text": [
      "         *\n",
      "        * *\n",
      "       *   *\n",
      "      *     *\n",
      "     *       *\n",
      "    *         *\n",
      "   *           *\n",
      "  *             *\n",
      " *               *\n",
      "* * * * * * * * * *\n",
      "\n"
     ]
    }
   ],
   "source": [
    "\n",
    "for i in range(1, 20):\n",
    "    if i == 10:\n",
    "        print(\"*\")\n",
    "        break\n",
    "    else:\n",
    "        print(\" \", end=\"\")\n",
    "for j in range (9, 1, -1):\n",
    "    for i in range(1, 20):\n",
    "        if i == j:\n",
    "            print(\"*\", end=\"\")\n",
    "        elif i == 20 - j:\n",
    "            print(\"*\")\n",
    "            break\n",
    "        else:\n",
    "            print(\" \", end=\"\")\n",
    "for i in range(1, 20):\n",
    "    if i % 2 != 0:\n",
    "        print(\"*\", end=\"\")\n",
    "    else:\n",
    "        print(\" \", end=\"\")\n",
    "\n",
    "\n",
    "print(\"\\n\")\n",
    "\n"
   ]
  }
 ],
 "metadata": {
  "kernelspec": {
   "display_name": "Python 3",
   "language": "python",
   "name": "python3"
  },
  "language_info": {
   "codemirror_mode": {
    "name": "ipython",
    "version": 3
   },
   "file_extension": ".py",
   "mimetype": "text/x-python",
   "name": "python",
   "nbconvert_exporter": "python",
   "pygments_lexer": "ipython3",
   "version": "3.12.2"
  }
 },
 "nbformat": 4,
 "nbformat_minor": 2
}
