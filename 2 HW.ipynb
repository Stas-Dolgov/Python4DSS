{
 "cells": [
  {
   "cell_type": "code",
   "execution_count": 13,
   "metadata": {},
   "outputs": [
    {
     "name": "stdout",
     "output_type": "stream",
     "text": [
      "        A\n",
      "       AAA\n",
      "      AAAAA\n",
      "     AAAAAAA\n",
      "    AAAAAAAAA\n",
      "   AAAAAAAAAAA\n",
      "  AAAAAAAAAAAAA\n",
      " AAAAAAAAAAAAAAA\n",
      "AAAAAAAAAAAAAAAAA\n"
     ]
    }
   ],
   "source": [
    "def draw_piramid_A():\n",
    "    count_symbol = 9\n",
    "    symbol = 'A'\n",
    "    for i in range(count_symbol):\n",
    "        print('%s%s' % (' ' * (count_symbol  -i - 1), symbol * (i * 2 + 1)))\n",
    "draw_piramid_A()"
   ]
  },
  {
   "cell_type": "code",
   "execution_count": 15,
   "metadata": {},
   "outputs": [
    {
     "name": "stdout",
     "output_type": "stream",
     "text": [
      "         *\n",
      "        * *\n",
      "       *   *\n",
      "      *     *\n",
      "     *       *\n",
      "    *         *\n",
      "   *           *\n",
      "  *             *\n",
      " *               *\n",
      "* * * * * * * * * *"
     ]
    }
   ],
   "source": [
    "def piramid_star():\n",
    "    for i in range(1, 20):\n",
    "        if i == 10:\n",
    "            print(\"*\")\n",
    "            break\n",
    "        else:\n",
    "            print(\" \", end=\"\")\n",
    "    for j in range (9, 1, -1):\n",
    "        for i in range(1, 20):\n",
    "            if i == j:\n",
    "                print(\"*\", end=\"\")\n",
    "            elif i == 20 - j:\n",
    "                print(\"*\")\n",
    "                break\n",
    "            else:\n",
    "                print(\" \", end=\"\")\n",
    "    for i in range(1, 20):\n",
    "        if i % 2 != 0:\n",
    "            print(\"*\", end=\"\")\n",
    "        else:\n",
    "            print(\" \", end=\"\")\n",
    "\n",
    "piramid_star()\n"
   ]
  },
  {
   "cell_type": "code",
   "execution_count": 16,
   "metadata": {},
   "outputs": [
    {
     "name": "stdout",
     "output_type": "stream",
     "text": [
      " ***********\n",
      "  *********\n",
      "   *******\n",
      "    *****\n",
      "     ***\n",
      "      *\n"
     ]
    }
   ],
   "source": [
    "n = 7\n",
    "def reverse_piramid(n):\n",
    "     # print downward pyramid\n",
    "    for i in range(n-1):\n",
    "        for j in range(i+1):\n",
    "            print(\" \", end=\"\")\n",
    "        for j in range (2 * (n-i-1)-1):\n",
    "            print (\"*\", end=\"\")\n",
    "        print()\n",
    "reverse_piramid(n)"
   ]
  },
  {
   "cell_type": "code",
   "execution_count": null,
   "metadata": {},
   "outputs": [],
   "source": []
  }
 ],
 "metadata": {
  "kernelspec": {
   "display_name": "Python 3",
   "language": "python",
   "name": "python3"
  },
  "language_info": {
   "codemirror_mode": {
    "name": "ipython",
    "version": 3
   },
   "file_extension": ".py",
   "mimetype": "text/x-python",
   "name": "python",
   "nbconvert_exporter": "python",
   "pygments_lexer": "ipython3",
   "version": "3.12.2"
  }
 },
 "nbformat": 4,
 "nbformat_minor": 2
}
