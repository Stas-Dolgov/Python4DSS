{
 "cells": [
  {
   "cell_type": "code",
   "execution_count": 2,
   "metadata": {},
   "outputs": [
    {
     "name": "stdout",
     "output_type": "stream",
     "text": [
      "0 1 2 3 4 jj\n"
     ]
    }
   ],
   "source": [
    "i = 0\n",
    "while i < 5:\n",
    "    print(i, end=' ')\n",
    "    i+=1\n",
    "else:\n",
    "    print(\"jj\")\n"
   ]
  },
  {
   "cell_type": "code",
   "execution_count": 8,
   "metadata": {},
   "outputs": [
    {
     "name": "stdout",
     "output_type": "stream",
     "text": [
      "30\n",
      "1020\n",
      "30\n",
      "1020\n"
     ]
    }
   ],
   "source": [
    "def sum1(a, b):\n",
    "    return a + b\n",
    "#позиционные\n",
    "print(sum1(10, 20))\n",
    "print(sum1(\"10\", \"20\"))\n",
    "\n",
    "\n",
    "#именнованные\n",
    "print(sum1(b=10, a=20))\n",
    "print(sum1(a=\"10\", b=\"20\"))"
   ]
  },
  {
   "cell_type": "code",
   "execution_count": 14,
   "metadata": {},
   "outputs": [
    {
     "name": "stdout",
     "output_type": "stream",
     "text": [
      "22\n",
      "19\n",
      "23\n"
     ]
    }
   ],
   "source": [
    "def sum2(a, b, c = 5):\n",
    "    return a + b + c\n",
    "print(sum2(10, 7))\n",
    "print(sum2(3, 7, 9))\n",
    "print(sum2(9, 7, 7))\n"
   ]
  },
  {
   "cell_type": "code",
   "execution_count": 17,
   "metadata": {},
   "outputs": [
    {
     "name": "stdout",
     "output_type": "stream",
     "text": [
      "(1, 2, 3, 'qwer', 3.141592)\n",
      "3.141592\n"
     ]
    }
   ],
   "source": [
    "def show_params_1(*args):\n",
    "    print(args)\n",
    "    print(args[4])\n",
    "\n",
    "show_params_1(1, 2, 3, 'qwer', 3.141592)\n"
   ]
  },
  {
   "cell_type": "code",
   "execution_count": 20,
   "metadata": {},
   "outputs": [
    {
     "name": "stdout",
     "output_type": "stream",
     "text": [
      "{'x': 1, 'y': 2, 'sum': 3, 'klav': 'qwer', 'p': 3.141592}\n",
      "3\n"
     ]
    }
   ],
   "source": [
    "\n",
    "def show_params_1(**kwargs):\n",
    "    print(kwargs)\n",
    "    print(kwargs['sum'])\n",
    "\n",
    "show_params_1(x=1, y=2, sum=3, klav='qwer', p=3.141592)\n"
   ]
  },
  {
   "cell_type": "code",
   "execution_count": 29,
   "metadata": {},
   "outputs": [
    {
     "name": "stdout",
     "output_type": "stream",
     "text": [
      "30\n",
      "80\n"
     ]
    }
   ],
   "source": [
    "#аннотация типов\n",
    "def sum3(a: int, b: int) -> int:\n",
    "    return a + b\n",
    "\n",
    "print(sum3(10, 20))\n",
    "print(sum3(100, -20))"
   ]
  },
  {
   "cell_type": "code",
   "execution_count": null,
   "metadata": {},
   "outputs": [],
   "source": [
    "def pv(v, p):\n",
    "    if p == 'f':\n",
    "        return v >= 56.5\n",
    "    elif p == 'm':\n",
    "        return v >= 61.5\n",
    "    \n",
    "    print(pv(54, 'm'))"
   ]
  }
 ],
 "metadata": {
  "kernelspec": {
   "display_name": "Python 3",
   "language": "python",
   "name": "python3"
  },
  "language_info": {
   "codemirror_mode": {
    "name": "ipython",
    "version": 3
   },
   "file_extension": ".py",
   "mimetype": "text/x-python",
   "name": "python",
   "nbconvert_exporter": "python",
   "pygments_lexer": "ipython3",
   "version": "3.12.2"
  }
 },
 "nbformat": 4,
 "nbformat_minor": 2
}
