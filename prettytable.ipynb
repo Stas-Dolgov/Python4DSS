{
 "cells": [
  {
   "cell_type": "code",
   "execution_count": 1,
   "metadata": {},
   "outputs": [],
   "source": [
    "from prettytable import PrettyTable"
   ]
  },
  {
   "cell_type": "code",
   "execution_count": 8,
   "metadata": {},
   "outputs": [
    {
     "name": "stdout",
     "output_type": "stream",
     "text": [
      "+---------+-------+-------+\n",
      "| Фамилия |  Имя  |   ЗП  |\n",
      "+---------+-------+-------+\n",
      "|  Bdfyjd |  reft |  567  |\n",
      "|  Btyuur | opeft | 50067 |\n",
      "+---------+-------+-------+\n"
     ]
    }
   ],
   "source": [
    "ta = PrettyTable()\n",
    "ta.field_names = ['Фамилия', 'Имя', 'ЗП']\n",
    "ta.add_row(['Bdfyjd', 'reft', '567'])\n",
    "ta.add_row(['Btyuur', 'opeft', '50067'])\n",
    "print(ta)"
   ]
  },
  {
   "cell_type": "code",
   "execution_count": 4,
   "metadata": {},
   "outputs": [
    {
     "data": {
      "text/html": [
       "<table>\n",
       "    <thead>\n",
       "        <tr>\n",
       "            <th>Фамилия</th>\n",
       "            <th>Имя</th>\n",
       "            <th>ЗП</th>\n",
       "        </tr>\n",
       "    </thead>\n",
       "    <tbody>\n",
       "        <tr>\n",
       "            <td>Bdfyjd</td>\n",
       "            <td>reft</td>\n",
       "            <td>567</td>\n",
       "        </tr>\n",
       "    </tbody>\n",
       "</table>"
      ],
      "text/plain": [
       "+---------+------+-----+\n",
       "| Фамилия | Имя  |  ЗП |\n",
       "+---------+------+-----+\n",
       "|  Bdfyjd | reft | 567 |\n",
       "+---------+------+-----+"
      ]
     },
     "execution_count": 4,
     "metadata": {},
     "output_type": "execute_result"
    }
   ],
   "source": [
    "ta"
   ]
  },
  {
   "cell_type": "code",
   "execution_count": 7,
   "metadata": {},
   "outputs": [
    {
     "name": "stdout",
     "output_type": "stream",
     "text": [
      "+----------------------+\n",
      "|       Friends        |\n",
      "+---------+------+-----+\n",
      "| Фамилия | Имя  |  ЗП |\n",
      "+---------+------+-----+\n",
      "|  Bdfyjd | reft | 567 |\n",
      "+---------+------+-----+\n"
     ]
    }
   ],
   "source": [
    "ta.title = 'Friends'\n",
    "print(ta)"
   ]
  },
  {
   "cell_type": "code",
   "execution_count": 6,
   "metadata": {},
   "outputs": [],
   "source": [
    "ta.align['ЗП'] = 'r'"
   ]
  }
 ],
 "metadata": {
  "kernelspec": {
   "display_name": "Python 3",
   "language": "python",
   "name": "python3"
  },
  "language_info": {
   "codemirror_mode": {
    "name": "ipython",
    "version": 3
   },
   "file_extension": ".py",
   "mimetype": "text/x-python",
   "name": "python",
   "nbconvert_exporter": "python",
   "pygments_lexer": "ipython3",
   "version": "3.12.2"
  }
 },
 "nbformat": 4,
 "nbformat_minor": 2
}
