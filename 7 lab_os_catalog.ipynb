{
 "cells": [
  {
   "cell_type": "markdown",
   "metadata": {},
   "source": [
    "OS - Работа с каталогами"
   ]
  },
  {
   "cell_type": "code",
   "execution_count": 1,
   "metadata": {},
   "outputs": [],
   "source": [
    "import os"
   ]
  },
  {
   "cell_type": "code",
   "execution_count": 2,
   "metadata": {},
   "outputs": [
    {
     "data": {
      "text/plain": [
       "'c:\\\\Users\\\\Стас\\\\Desktop\\\\python\\\\Python4DSS'"
      ]
     },
     "execution_count": 2,
     "metadata": {},
     "output_type": "execute_result"
    }
   ],
   "source": [
    "os.getcwd()"
   ]
  },
  {
   "cell_type": "code",
   "execution_count": 3,
   "metadata": {},
   "outputs": [],
   "source": [
    "import os\n",
    "TEMP_DIR = 'temp'\n",
    "if not os.path.exists(TEMP_DIR):\n",
    "    os.mkdir(TEMP_DIR)\n"
   ]
  },
  {
   "cell_type": "code",
   "execution_count": 6,
   "metadata": {},
   "outputs": [
    {
     "data": {
      "text/plain": [
       "True"
      ]
     },
     "execution_count": 6,
     "metadata": {},
     "output_type": "execute_result"
    }
   ],
   "source": [
    "os.path.exists(TEMP_DIR)"
   ]
  },
  {
   "cell_type": "code",
   "execution_count": 5,
   "metadata": {},
   "outputs": [],
   "source": [
    "os.mkdir(TEMP_DIR)"
   ]
  },
  {
   "cell_type": "code",
   "execution_count": 7,
   "metadata": {},
   "outputs": [],
   "source": [
    "if not os.path.exists(TEMP_DIR):\n",
    "    os.mkdir(TEMP_DIR)"
   ]
  },
  {
   "cell_type": "code",
   "execution_count": 10,
   "metadata": {},
   "outputs": [
    {
     "name": "stdout",
     "output_type": "stream",
     "text": [
      "8272\n",
      "os.stat_result(st_mode=33206, st_ino=37154696925916030, st_dev=8280025634316432129, st_nlink=1, st_uid=0, st_gid=0, st_size=8272, st_atime=1711447940, st_mtime=1711447913, st_ctime=1711447913)\n"
     ]
    }
   ],
   "source": [
    "#C:\\Users\\Стас\\Desktop\\python\\Python4DSS\\встроенные функции.ipynb\n",
    "filename = '7 lab.ipynb'\n",
    "print(os.path.getsize(filename))\n",
    "f = os.stat(filename)\n",
    "print(f)"
   ]
  },
  {
   "cell_type": "code",
   "execution_count": 13,
   "metadata": {},
   "outputs": [
    {
     "data": {
      "text/plain": [
       "'c:\\\\Users\\\\Стас\\\\Desktop'"
      ]
     },
     "execution_count": 13,
     "metadata": {},
     "output_type": "execute_result"
    }
   ],
   "source": [
    "os.chdir('..')\n",
    "os.getcwd()"
   ]
  },
  {
   "cell_type": "code",
   "execution_count": 14,
   "metadata": {},
   "outputs": [
    {
     "data": {
      "text/plain": [
       "'C:\\\\Windows\\\\Help'"
      ]
     },
     "execution_count": 14,
     "metadata": {},
     "output_type": "execute_result"
    }
   ],
   "source": [
    "os.chdir(r'C:\\Windows\\Help')\n",
    "os.getcwd()"
   ]
  },
  {
   "cell_type": "code",
   "execution_count": 15,
   "metadata": {},
   "outputs": [
    {
     "data": {
      "text/plain": [
       "['Corporate', 'en-US', 'Help', 'mui', 'OEM', 'Windows']"
      ]
     },
     "execution_count": 15,
     "metadata": {},
     "output_type": "execute_result"
    }
   ],
   "source": [
    "os.listdir()"
   ]
  },
  {
   "cell_type": "code",
   "execution_count": 17,
   "metadata": {},
   "outputs": [
    {
     "data": {
      "text/plain": [
       "['C:\\\\']"
      ]
     },
     "execution_count": 17,
     "metadata": {},
     "output_type": "execute_result"
    }
   ],
   "source": [
    "os.listdrives()"
   ]
  },
  {
   "cell_type": "code",
   "execution_count": 19,
   "metadata": {},
   "outputs": [
    {
     "name": "stdout",
     "output_type": "stream",
     "text": [
      ". ['Corporate', 'en-US', 'Help', 'mui', 'OEM', 'Windows'] []\n",
      ".\\Corporate [] []\n",
      ".\\en-US [] ['credits.rtf']\n",
      ".\\Help [] []\n",
      ".\\mui ['0409', '0419'] []\n",
      ".\\mui\\0409 [] []\n",
      ".\\mui\\0419 [] ['cliconf.chm', 'mmc.CHM', 'msdasc.chm', 'msorcl32.chm', 'odbcinst.chm', 'odbcjet.chm', 'sqlsodbc.chm', 'sqlsoldb.chm']\n",
      ".\\OEM ['ContentStore', 'IndexStore'] []\n",
      ".\\OEM\\ContentStore [] []\n",
      ".\\OEM\\IndexStore [] []\n",
      ".\\Windows ['ContentStore', 'IndexStore'] []\n",
      ".\\Windows\\ContentStore ['en-US'] []\n",
      ".\\Windows\\ContentStore\\en-US [] []\n",
      ".\\Windows\\IndexStore ['en-US'] []\n",
      ".\\Windows\\IndexStore\\en-US [] []\n"
     ]
    }
   ],
   "source": [
    "for cur_dir, dirs, files in os.walk('.'):\n",
    "    print(cur_dir, dirs, files)"
   ]
  },
  {
   "cell_type": "code",
   "execution_count": 23,
   "metadata": {},
   "outputs": [
    {
     "name": "stdout",
     "output_type": "stream",
     "text": [
      "Каталогов = 6 и файлов = 0 в папке .\n",
      "Каталогов = 0 и файлов = 0 в папке .\\Corporate\n",
      "Каталогов = 0 и файлов = 1 в папке .\\en-US\n",
      "Каталогов = 0 и файлов = 0 в папке .\\Help\n",
      "Каталогов = 2 и файлов = 0 в папке .\\mui\n",
      "Каталогов = 0 и файлов = 0 в папке .\\mui\\0409\n",
      "Каталогов = 0 и файлов = 8 в папке .\\mui\\0419\n",
      "Каталогов = 2 и файлов = 0 в папке .\\OEM\n",
      "Каталогов = 0 и файлов = 0 в папке .\\OEM\\ContentStore\n",
      "Каталогов = 0 и файлов = 0 в папке .\\OEM\\IndexStore\n",
      "Каталогов = 2 и файлов = 0 в папке .\\Windows\n",
      "Каталогов = 1 и файлов = 0 в папке .\\Windows\\ContentStore\n",
      "Каталогов = 0 и файлов = 0 в папке .\\Windows\\ContentStore\\en-US\n",
      "Каталогов = 1 и файлов = 0 в папке .\\Windows\\IndexStore\n",
      "Каталогов = 0 и файлов = 0 в папке .\\Windows\\IndexStore\\en-US\n"
     ]
    }
   ],
   "source": [
    "for cur_dir, dirs, files in os.walk('.'):\n",
    "    print(f\"Каталогов = {len(dirs)} и файлов = {len(files)} в папке {cur_dir}\")"
   ]
  },
  {
   "cell_type": "code",
   "execution_count": 26,
   "metadata": {},
   "outputs": [
    {
     "name": "stdout",
     "output_type": "stream",
     "text": [
      ".\\en-US\\credits.rtf\n",
      ".\\mui\\0419\\cliconf.chm\n",
      ".\\mui\\0419\\mmc.CHM\n",
      ".\\mui\\0419\\msdasc.chm\n",
      ".\\mui\\0419\\msorcl32.chm\n",
      ".\\mui\\0419\\odbcinst.chm\n",
      ".\\mui\\0419\\odbcjet.chm\n",
      ".\\mui\\0419\\sqlsodbc.chm\n",
      ".\\mui\\0419\\sqlsoldb.chm\n"
     ]
    }
   ],
   "source": [
    "for cur_dir, dirs, files in os.walk('.'):\n",
    "    for file in files:\n",
    "        print(os.path.join(cur_dir, file))"
   ]
  },
  {
   "cell_type": "code",
   "execution_count": 28,
   "metadata": {},
   "outputs": [
    {
     "name": "stdout",
     "output_type": "stream",
     "text": [
      "C:\\Windows\\Help\\Corporate\n",
      "C:\\Windows\\Help\\en-US\n",
      "C:\\Windows\\Help\\Help\n",
      "C:\\Windows\\Help\\mui\n",
      "C:\\Windows\\Help\\OEM\n",
      "C:\\Windows\\Help\\Windows\n",
      "C:\\Windows\\Help\\mui\\0409\n",
      "C:\\Windows\\Help\\mui\\0419\n",
      "C:\\Windows\\Help\\OEM\\ContentStore\n",
      "C:\\Windows\\Help\\OEM\\IndexStore\n",
      "C:\\Windows\\Help\\Windows\\ContentStore\n",
      "C:\\Windows\\Help\\Windows\\IndexStore\n",
      "C:\\Windows\\Help\\Windows\\ContentStore\\en-US\n",
      "C:\\Windows\\Help\\Windows\\IndexStore\\en-US\n"
     ]
    }
   ],
   "source": [
    "for cur_dir, dirs, files in os.walk('.'):\n",
    "    for dir in dirs:\n",
    "        print(os.path.abspath(os.path.join(cur_dir, dir)))"
   ]
  },
  {
   "cell_type": "code",
   "execution_count": 31,
   "metadata": {},
   "outputs": [
    {
     "name": "stdout",
     "output_type": "stream",
     "text": [
      "12\n",
      "nt\n",
      "Стас\n"
     ]
    }
   ],
   "source": [
    "print(os.cpu_count())\n",
    "print(os.name)\n",
    "print(os.getlogin())"
   ]
  }
 ],
 "metadata": {
  "kernelspec": {
   "display_name": "Python 3",
   "language": "python",
   "name": "python3"
  },
  "language_info": {
   "codemirror_mode": {
    "name": "ipython",
    "version": 3
   },
   "file_extension": ".py",
   "mimetype": "text/x-python",
   "name": "python",
   "nbconvert_exporter": "python",
   "pygments_lexer": "ipython3",
   "version": "3.12.2"
  }
 },
 "nbformat": 4,
 "nbformat_minor": 2
}
