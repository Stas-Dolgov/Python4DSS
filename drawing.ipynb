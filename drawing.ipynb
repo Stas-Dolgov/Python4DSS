{
 "cells": [
  {
   "cell_type": "markdown",
   "metadata": {},
   "source": [
    "нарисовать изображение"
   ]
  },
  {
   "cell_type": "code",
   "execution_count": null,
   "metadata": {},
   "outputs": [],
   "source": [
    "from PIL import ImageDraw\n",
    "from random import randint"
   ]
  },
  {
   "cell_type": "code",
   "execution_count": null,
   "metadata": {},
   "outputs": [],
   "source": [
    "im = Image.new(mode='RGB', size=(500, 200), color =(45, 220, 30))"
   ]
  },
  {
   "cell_type": "code",
   "execution_count": null,
   "metadata": {},
   "outputs": [],
   "source": [
    "draw = ImageDraw.Draw(im)\n",
    "im\n",
    "draw.rectangle(((10, 10), (400, 150)))\n",
    "draw.rectangle(((40, 20), (350, 100)), outline='blue')\n",
    "draw.ellipse(((100, 50), (5, 5)))"
   ]
  },
  {
   "cell_type": "code",
   "execution_count": null,
   "metadata": {},
   "outputs": [],
   "source": [
    "im = Image.new(mode='RGB', size=(500, 200), color =(45, 220, 30))\n",
    "draw = ImageDraw.Draw(im)\n",
    "for i in range(100):\n",
    "    _p1 = randint(0, im.width), randint(0, im.height)\n",
    "    _p2 = randint(0, im.width), randint(0, im.height)\n",
    "    _color = randint(0, 255), randint(0, 255), randint(0, 255)\n",
    "    draw.line((_p1, p_2), fill =_color, width = 2)\n",
    "im"
   ]
  },
  {
   "cell_type": "code",
   "execution_count": null,
   "metadata": {},
   "outputs": [],
   "source": [
    "COUNT = 20\n",
    "im = Image.new(mode='RGB', size=(500, 200), color =(45, 220, 30))\n",
    "draw = ImageDraw.Draw(im)\n",
    "\n",
    "for i in range(COUNT + 1):\n",
    "    y1 = i* im.height / COUNT\n",
    "    x2 = i * im.width / COUNT\n",
    "    draw.line((0, y1, x2, im.height-1), fill = 'blue')\n",
    "\n",
    "im"
   ]
  },
  {
   "cell_type": "code",
   "execution_count": null,
   "metadata": {},
   "outputs": [],
   "source": [
    "COUNT = 20\n",
    "im = Image.new(mode='RGB', size=(500, 200), color =(45, 220, 30))\n",
    "draw = ImageDraw.Draw(im)\n",
    "\n",
    "angle = 360 / COUNT\n",
    "for i in range(COUNT + 1):\n",
    "    draw.pieslice((0, 0, im.width, im.height), i * angle, i* angle + angle / 2)\n",
    "\n",
    "im"
   ]
  },
  {
   "cell_type": "code",
   "execution_count": null,
   "metadata": {},
   "outputs": [],
   "source": [
    "COUNT = 20\n",
    "im = Image.new(mode='RGB', size=(500, 200), color =(45, 220, 30))\n",
    "draw = ImageDraw.Draw(im)\n",
    "\n",
    "angle = 360 / COUNT\n",
    "for i in range(COUNT + 1):\n",
    "    _color = 0, 0, i *255 // COUNT\n",
    "    draw.pieslice((0, 0, im.width, im.height), i * angle, i* angle + angle / 2, fill = _color)\n",
    "\n",
    "im"
   ]
  },
  {
   "cell_type": "code",
   "execution_count": null,
   "metadata": {},
   "outputs": [],
   "source": []
  }
 ],
 "metadata": {
  "kernelspec": {
   "display_name": "Python 3",
   "language": "python",
   "name": "python3"
  },
  "language_info": {
   "codemirror_mode": {
    "name": "ipython",
    "version": 3
   },
   "file_extension": ".py",
   "mimetype": "text/x-python",
   "name": "python",
   "nbconvert_exporter": "python",
   "pygments_lexer": "ipython3",
   "version": "3.12.2"
  }
 },
 "nbformat": 4,
 "nbformat_minor": 2
}
