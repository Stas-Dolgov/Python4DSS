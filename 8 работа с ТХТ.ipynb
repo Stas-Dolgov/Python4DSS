{
 "cells": [
  {
   "cell_type": "markdown",
   "metadata": {},
   "source": [
    "Работа с текстовыми файлами TXT\n",
    "\n",
    "функция `open()` основная для открытия на запись или чтения"
   ]
  },
  {
   "cell_type": "markdown",
   "metadata": {},
   "source": [
    "Режимы открытия файла:\n",
    "- `'r'` - открыть файл для чтения Если файла нет, то ошибка (по умолчанию этот режим (r))\n",
    "- `'w'` - открыть файл для перезаписи Если файла нет, то создать\n",
    "- `'x'` - открыть файл для перезаписи Если файла нет, то ошибка\n",
    "- `'a'` - открыть файл для добавления в конец Если файла нет, то создать\n"
   ]
  },
  {
   "cell_type": "markdown",
   "metadata": {},
   "source": [
    "Дополнительные режимы:\n",
    "- `'t'`- Текстовый файл по умолчанию\n",
    "- `'b'`- Бинарный файл\n",
    "- `'+'`- Режим R + W"
   ]
  },
  {
   "cell_type": "markdown",
   "metadata": {},
   "source": [
    "Помним:\n",
    "- файл необходимо закрыть\n",
    "- различные кодировки текстовых файлов"
   ]
  },
  {
   "cell_type": "code",
   "execution_count": 1,
   "metadata": {},
   "outputs": [],
   "source": [
    "import os\n",
    "TEMP_DIR = 'temp'\n",
    "if not os.path.exists(TEMP_DIR):\n",
    "    os.mkdir(TEMP_DIR)"
   ]
  },
  {
   "cell_type": "code",
   "execution_count": 2,
   "metadata": {},
   "outputs": [
    {
     "data": {
      "text/plain": [
       "'temp\\\\file_TXT.txt'"
      ]
     },
     "execution_count": 2,
     "metadata": {},
     "output_type": "execute_result"
    }
   ],
   "source": [
    "os.path.join(TEMP_DIR, 'file_TXT.txt')"
   ]
  },
  {
   "cell_type": "code",
   "execution_count": 9,
   "metadata": {},
   "outputs": [],
   "source": [
    "file = open(os.path.join(TEMP_DIR, 'file_TXT.txt'), 'w')\n",
    "file.write('Hello!\\n')\n",
    "file.write('Hello!\\n')\n",
    "file.write('Hello!\\n')\n",
    "file.close()"
   ]
  },
  {
   "cell_type": "code",
   "execution_count": 17,
   "metadata": {},
   "outputs": [],
   "source": [
    "file = open(os.path.join(TEMP_DIR, 'file_TXT.txt'), 'a')\n",
    "try:\n",
    "    file.write('Hello, energy!\\n')\n",
    "    file.write('Hello, admin!\\n')\n",
    "finally:\n",
    "    file.close()"
   ]
  },
  {
   "cell_type": "code",
   "execution_count": 16,
   "metadata": {},
   "outputs": [],
   "source": [
    "with open(os.path.join(TEMP_DIR, 'file_TXT.txt'), 'w') as f:\n",
    "   f.write('CODM!\\n')\n",
    "   f.write('LEGEND\\n') "
   ]
  },
  {
   "cell_type": "code",
   "execution_count": 18,
   "metadata": {},
   "outputs": [],
   "source": [
    "poem = '''MySQL Workbench Community Edition – интегрированная среда для проектировщиков,\n",
    " разработчиков и администраторов баз данных, \n",
    " реализующая функции визуального проектирования, разработки и эксплуатации баз данных MySQL.'''"
   ]
  },
  {
   "cell_type": "code",
   "execution_count": 19,
   "metadata": {},
   "outputs": [],
   "source": [
    "with open(os.path.join(TEMP_DIR, 'file_TXT.txt'), 'w') as f:\n",
    "   f.write(poem)"
   ]
  },
  {
   "cell_type": "code",
   "execution_count": 33,
   "metadata": {},
   "outputs": [],
   "source": [
    "with open(os.path.join(TEMP_DIR, 'file_TXT.txt'), 'w', encoding= 'ANSI') as f:\n",
    "   f.write(poem)"
   ]
  },
  {
   "cell_type": "code",
   "execution_count": 23,
   "metadata": {},
   "outputs": [],
   "source": [
    "with open(os.path.join(TEMP_DIR, 'file_TXT.txt'), 'a', encoding= 'utf-8') as f:\n",
    "   f.write(poem)"
   ]
  },
  {
   "cell_type": "markdown",
   "metadata": {},
   "source": [
    "Чтение из файла"
   ]
  },
  {
   "cell_type": "code",
   "execution_count": 35,
   "metadata": {},
   "outputs": [
    {
     "name": "stdout",
     "output_type": "stream",
     "text": [
      "MySQL Work\n"
     ]
    }
   ],
   "source": [
    "with open(os.path.join(TEMP_DIR, 'file_TXT.txt')) as f:\n",
    "   print(f.read(10))"
   ]
  },
  {
   "cell_type": "code",
   "execution_count": 39,
   "metadata": {},
   "outputs": [
    {
     "name": "stdout",
     "output_type": "stream",
     "text": [
      "'MySQL Workbench Community Edition – интегрированная среда для проектировщиков,\\n'\n",
      "' разработчиков и администраторов баз данных, \\n'\n",
      "' реализующая функции визуального проектирования, разработки и эксплуатации баз данных MySQL.'\n"
     ]
    }
   ],
   "source": [
    "with open(os.path.join(TEMP_DIR, 'file_TXT.txt')) as f:\n",
    "    for line in f:\n",
    "        print(repr(line))"
   ]
  },
  {
   "cell_type": "code",
   "execution_count": null,
   "metadata": {},
   "outputs": [
    {
     "name": "stdout",
     "output_type": "stream",
     "text": [
      "MySQL Workbench Community Edition – интегрированная среда для проектировщиков,\n",
      "\n",
      " разработчиков и администраторов баз данных, \n",
      "\n",
      " реализующая функции визуального проектирования, разработки и эксплуатации баз данных MySQL.\n"
     ]
    }
   ],
   "source": [
    "with open(os.path.join(TEMP_DIR, 'file_TXT.txt')) as f:\n",
    "    for line in f:\n",
    "        print(line)"
   ]
  },
  {
   "cell_type": "code",
   "execution_count": 41,
   "metadata": {},
   "outputs": [
    {
     "name": "stdout",
     "output_type": "stream",
     "text": [
      "MySQL Workbench Community Edition – интегрированная среда для проектировщиков,\n",
      "\n"
     ]
    }
   ],
   "source": [
    "with open(os.path.join(TEMP_DIR, 'file_TXT.txt')) as f:\n",
    "    print(f.readline())"
   ]
  },
  {
   "cell_type": "code",
   "execution_count": 43,
   "metadata": {},
   "outputs": [
    {
     "name": "stdout",
     "output_type": "stream",
     "text": [
      "'MySQL Workbench Community Edition – интегрированная среда для проектировщиков,\\n'\n",
      "' разработчиков и администраторов баз данных, \\n'\n",
      "' реализующая функции визуального проектирования, разработки и эксплуатации баз данных MySQL.'\n"
     ]
    }
   ],
   "source": [
    "with open(os.path.join(TEMP_DIR, 'file_TXT.txt')) as f:\n",
    "    while True:\n",
    "        if (line := f.readline()) == '':\n",
    "            break\n",
    "        print(repr(line))\n",
    "    "
   ]
  },
  {
   "cell_type": "code",
   "execution_count": 44,
   "metadata": {},
   "outputs": [
    {
     "name": "stdout",
     "output_type": "stream",
     "text": [
      "'MySQL Workbench Community Edition – интегрированная среда для проектировщиков,\\n'\n",
      "' разработчиков и администраторов баз данных, \\n'\n",
      "' реализующая функции визуального проектирования, разработки и эксплуатации баз данных MySQL.'\n"
     ]
    }
   ],
   "source": [
    "with open(os.path.join(TEMP_DIR, 'file_TXT.txt')) as f:\n",
    "    while line := f.readline():\n",
    "        print(repr(line))"
   ]
  },
  {
   "cell_type": "code",
   "execution_count": 45,
   "metadata": {},
   "outputs": [],
   "source": [
    "file_name_1 = os.path.join(TEMP_DIR, 'file_TXT.txt')\n",
    "file_name_2 = os.path.join(TEMP_DIR, 'file_TXT.txt')\n",
    "with open(file_name_1) as f1, open(file_name_2) as f2:\n",
    "    pass\n"
   ]
  }
 ],
 "metadata": {
  "kernelspec": {
   "display_name": "Python 3",
   "language": "python",
   "name": "python3"
  },
  "language_info": {
   "codemirror_mode": {
    "name": "ipython",
    "version": 3
   },
   "file_extension": ".py",
   "mimetype": "text/x-python",
   "name": "python",
   "nbconvert_exporter": "python",
   "pygments_lexer": "ipython3",
   "version": "3.12.2"
  }
 },
 "nbformat": 4,
 "nbformat_minor": 2
}
